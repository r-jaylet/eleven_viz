{
    "cells": [
        {
            "cell_type": "code",
            "execution_count": 2,
            "metadata": {},
            "outputs": [],
            "source": [
                "import pandas as pd\n",
                "from src.functions.get_data import get_data\n",
                "from src.functions.physical import *"
            ]
        },
        {
            "cell_type": "code",
            "execution_count": 3,
            "metadata": {},
            "outputs": [],
            "source": [
                "df = get_data(\"data/players_data/marc_cucurella/CFC Physical Capability Data.csv\", encoding=\"utf-8-sig\")\n",
                "df_filtered = df.dropna(subset=[\"benchmarkPct\"])"
            ]
        },
        {
            "cell_type": "code",
            "execution_count": 4,
            "metadata": {},
            "outputs": [
                {
                    "ename": "NameError",
                    "evalue": "name 'general_kpis' is not defined",
                    "output_type": "error",
                    "traceback": [
                        "\u001b[1;31m---------------------------------------------------------------------------\u001b[0m",
                        "\u001b[1;31mNameError\u001b[0m                                 Traceback (most recent call last)",
                        "Cell \u001b[1;32mIn[4], line 1\u001b[0m\n\u001b[1;32m----> 1\u001b[0m \u001b[43mgeneral_kpis\u001b[49m(df_filtered)\n",
                        "\u001b[1;31mNameError\u001b[0m: name 'general_kpis' is not defined"
                    ]
                }
            ],
            "source": [
                "general_kpis(df_filtered)"
            ]
        },
        {
            "cell_type": "code",
            "execution_count": 5,
            "metadata": {},
            "outputs": [
                {
                    "ename": "NameError",
                    "evalue": "name 'print_data_for_date' is not defined",
                    "output_type": "error",
                    "traceback": [
                        "\u001b[1;31m---------------------------------------------------------------------------\u001b[0m",
                        "\u001b[1;31mNameError\u001b[0m                                 Traceback (most recent call last)",
                        "Cell \u001b[1;32mIn[5], line 1\u001b[0m\n\u001b[1;32m----> 1\u001b[0m \u001b[43mprint_data_for_date\u001b[49m(df_filtered, \u001b[38;5;124m\"\u001b[39m\u001b[38;5;124m14/07/2023\u001b[39m\u001b[38;5;124m\"\u001b[39m)\n",
                        "\u001b[1;31mNameError\u001b[0m: name 'print_data_for_date' is not defined"
                    ]
                }
            ],
            "source": [
                "print_data_for_date(df_filtered, \"14/07/2023\")"
            ]
        },
        {
            "cell_type": "code",
            "execution_count": 6,
            "metadata": {},
            "outputs": [
                {
                    "ename": "NameError",
                    "evalue": "name 'detailed_stats_by_movement' is not defined",
                    "output_type": "error",
                    "traceback": [
                        "\u001b[1;31m---------------------------------------------------------------------------\u001b[0m",
                        "\u001b[1;31mNameError\u001b[0m                                 Traceback (most recent call last)",
                        "Cell \u001b[1;32mIn[6], line 1\u001b[0m\n\u001b[1;32m----> 1\u001b[0m \u001b[43mdetailed_stats_by_movement\u001b[49m(df_filtered, start_date\u001b[38;5;241m=\u001b[39m\u001b[38;5;124m'\u001b[39m\u001b[38;5;124m01/01/2023\u001b[39m\u001b[38;5;124m'\u001b[39m, end_date\u001b[38;5;241m=\u001b[39m\u001b[38;5;124m'\u001b[39m\u001b[38;5;124m31/12/2025\u001b[39m\u001b[38;5;124m'\u001b[39m)\n",
                        "\u001b[1;31mNameError\u001b[0m: name 'detailed_stats_by_movement' is not defined"
                    ]
                }
            ],
            "source": [
                "detailed_stats_by_movement(df_filtered, start_date='01/01/2023', end_date='31/12/2025')"
            ]
        }
    ],
    "metadata": {
        "kernelspec": {
            "display_name": ".venv",
            "language": "python",
            "name": "python3"
        },
        "language_info": {
            "codemirror_mode": {
                "name": "ipython",
                "version": 3
            },
            "file_extension": ".py",
            "mimetype": "text/x-python",
            "name": "python",
            "nbconvert_exporter": "python",
            "pygments_lexer": "ipython3",
            "version": "3.10.11"
        }
    },
    "nbformat": 4,
    "nbformat_minor": 2
}
