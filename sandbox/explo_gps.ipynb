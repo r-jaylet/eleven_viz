{
    "cells": [
        {
            "cell_type": "code",
            "execution_count": 3,
            "metadata": {},
            "outputs": [],
            "source": [
                "import pandas as pd\n",
                "from src.functions.get_data import get_data\n",
                "from src.functions.gps import *"
            ]
        },
        {
            "cell_type": "code",
            "execution_count": 4,
            "metadata": {},
            "outputs": [],
            "source": [
                "df = get_data(\"data/players_data/marc_cucurella/CFC GPS Data.csv\")"
            ]
        },
        {
            "cell_type": "code",
            "execution_count": 7,
            "metadata": {},
            "outputs": [],
            "source": [
                "df['date'] = pd.to_datetime(df['date'], format='%d/%m/%Y')\n",
                "df_filtered = df[df[\"distance\"] > 0]\n",
                "df_matches = df_filtered[df_filtered['opposition_code'].notna()]\n",
                "df_trainings = df_filtered[df_filtered['opposition_code'].isna()]"
            ]
        },
        {
            "cell_type": "code",
            "execution_count": 9,
            "metadata": {},
            "outputs": [
                {
                    "ename": "NameError",
                    "evalue": "name 'detailed_stats_evolution' is not defined",
                    "output_type": "error",
                    "traceback": [
                        "\u001b[1;31m---------------------------------------------------------------------------\u001b[0m",
                        "\u001b[1;31mNameError\u001b[0m                                 Traceback (most recent call last)",
                        "Cell \u001b[1;32mIn[9], line 1\u001b[0m\n\u001b[1;32m----> 1\u001b[0m \u001b[43mdetailed_stats_evolution\u001b[49m(df_matches\u001b[38;5;241m.\u001b[39mcopy(), \u001b[38;5;124m'\u001b[39m\u001b[38;5;124mdistance_over_21\u001b[39m\u001b[38;5;124m'\u001b[39m)\n\u001b[0;32m      2\u001b[0m general_kpis(df_matches)\n\u001b[0;32m      4\u001b[0m detailed_stats_evolution(df_trainings\u001b[38;5;241m.\u001b[39mcopy(), \u001b[38;5;124m'\u001b[39m\u001b[38;5;124mdistance_over_21\u001b[39m\u001b[38;5;124m'\u001b[39m)  \n",
                        "\u001b[1;31mNameError\u001b[0m: name 'detailed_stats_evolution' is not defined"
                    ]
                }
            ],
            "source": [
                "detailed_stats_evolution(df_matches.copy(), 'distance_over_21')\n",
                "general_kpis(df_matches)\n",
                "\n",
                "detailed_stats_evolution(df_trainings.copy(), 'distance_over_21')  \n",
                "general_kpis(df_trainings)\n"
            ]
        },
        {
            "cell_type": "code",
            "execution_count": 10,
            "metadata": {},
            "outputs": [
                {
                    "ename": "NameError",
                    "evalue": "name 'plot_average_distances_histogram_plotly' is not defined",
                    "output_type": "error",
                    "traceback": [
                        "\u001b[1;31m---------------------------------------------------------------------------\u001b[0m",
                        "\u001b[1;31mNameError\u001b[0m                                 Traceback (most recent call last)",
                        "Cell \u001b[1;32mIn[10], line 1\u001b[0m\n\u001b[1;32m----> 1\u001b[0m \u001b[43mplot_average_distances_histogram_plotly\u001b[49m(df)\n",
                        "\u001b[1;31mNameError\u001b[0m: name 'plot_average_distances_histogram_plotly' is not defined"
                    ]
                }
            ],
            "source": [
                "plot_average_distances_histogram_plotly(df)"
            ]
        },
        {
            "cell_type": "code",
            "execution_count": 30,
            "metadata": {},
            "outputs": [
                {
                    "name": "stdout",
                    "output_type": "stream",
                    "text": [
                        "J-2                     0.142150\n",
                        "J-1                     0.192657\n",
                        "Match                   1.000000\n",
                        "md_plus_code                 NaN\n",
                        "md_minus_code                NaN\n",
                        "distance_over_21        0.687608\n",
                        "distance_over_24        0.617908\n",
                        "distance_over_27        0.484002\n",
                        "accel_decel_over_2_5    0.931210\n",
                        "accel_decel_over_3_5    0.910802\n",
                        "accel_decel_over_4_5    0.858581\n",
                        "day_duration            0.820888\n",
                        "peak_speed              0.372459\n",
                        "Name: Match, dtype: float64\n"
                    ]
                }
            ],
            "source": [
                "# Créer une nouvelle liste pour récupérer les distances (J-2, J-1, J) et les autres colonnes\n",
                "data_for_corr = []\n",
                "\n",
                "# Parcourir le DataFrame et récupérer les informations nécessaires\n",
                "for i in range(2, len(df)):\n",
                "    if pd.notna(df.loc[i, \"opposition_code\"]):  # Vérifier si c'est un match\n",
                "        # Récupérer les distances\n",
                "        distance_j2 = df.loc[i - 2, \"distance\"]\n",
                "        distance_j1 = df.loc[i - 1, \"distance\"]\n",
                "        distance_match = df.loc[i, \"distance\"]\n",
                "        \n",
                "        # Créer un dictionnaire avec les distances et les autres colonnes à corréler\n",
                "        data_for_corr.append({\n",
                "            \"J-2\": distance_j2,\n",
                "            \"J-1\": distance_j1,\n",
                "            \"Match\": distance_match,\n",
                "            **df.loc[i, df.columns != \"distance\"].to_dict()  # Ajouter toutes les autres colonnes\n",
                "        })\n",
                "\n",
                "# Convertir en DataFrame et filtrer les colonnes numériques\n",
                "df_corr = pd.DataFrame(data_for_corr)\n",
                "\n",
                "# Garder uniquement les colonnes numériques pour la corrélation\n",
                "df_corr_numeric = df_corr.select_dtypes(include=['number'])\n",
                "\n",
                "# Calculer la corrélation entre \"Match\" et toutes les autres variables numériques\n",
                "correlation_matrix = df_corr_numeric.corr()\n",
                "\n",
                "# Extraire la corrélation avec \"Match\" uniquement\n",
                "correlation_with_match = correlation_matrix[\"Match\"]\n",
                "\n",
                "# Afficher la corrélation avec la distance du match\n",
                "print(correlation_with_match)\n"
            ]
        },
        {
            "cell_type": "code",
            "execution_count": 31,
            "metadata": {},
            "outputs": [
                {
                    "ename": "ValueError",
                    "evalue": "Mime type rendering requires nbformat>=4.2.0 but it is not installed",
                    "output_type": "error",
                    "traceback": [
                        "\u001b[1;31m---------------------------------------------------------------------------\u001b[0m",
                        "\u001b[1;31mValueError\u001b[0m                                Traceback (most recent call last)",
                        "Cell \u001b[1;32mIn[31], line 1\u001b[0m\n\u001b[1;32m----> 1\u001b[0m \u001b[43mstats_vs_match_time\u001b[49m\u001b[43m(\u001b[49m\u001b[43mdf_filtered\u001b[49m\u001b[38;5;241;43m.\u001b[39;49m\u001b[43mcopy\u001b[49m\u001b[43m(\u001b[49m\u001b[43m)\u001b[49m\u001b[43m)\u001b[49m\n",
                        "File \u001b[1;32mc:\\Users\\RémiJAYLET\\Documents\\eleven_viz\\sandbox\\functions\\gps\\stats_vs_match_time.py:163\u001b[0m, in \u001b[0;36mstats_vs_match_time\u001b[1;34m(df)\u001b[0m\n\u001b[0;32m    161\u001b[0m \u001b[38;5;66;03m# Generate the three pie charts\u001b[39;00m\n\u001b[0;32m    162\u001b[0m _, _, _, df_groups \u001b[38;5;241m=\u001b[39m get_duration_matchs(df)\n\u001b[1;32m--> 163\u001b[0m \u001b[43mplot_distance_splits\u001b[49m\u001b[43m(\u001b[49m\u001b[43mdf_groups\u001b[49m\u001b[43m)\u001b[49m\n\u001b[0;32m    164\u001b[0m plot_accel_splits(df_groups)\n\u001b[0;32m    165\u001b[0m plot_hr_zones(df_groups, convert_hms_to_minutes)\n",
                        "File \u001b[1;32mc:\\Users\\RémiJAYLET\\Documents\\eleven_viz\\sandbox\\functions\\gps\\stats_vs_match_time.py:64\u001b[0m, in \u001b[0;36mstats_vs_match_time.<locals>.plot_distance_splits\u001b[1;34m(df_groups)\u001b[0m\n\u001b[0;32m     51\u001b[0m     annotations\u001b[38;5;241m.\u001b[39mappend(\u001b[38;5;28mdict\u001b[39m(\n\u001b[0;32m     52\u001b[0m         x\u001b[38;5;241m=\u001b[39m(i \u001b[38;5;241m*\u001b[39m \u001b[38;5;241m0.33\u001b[39m) \u001b[38;5;241m+\u001b[39m \u001b[38;5;241m0.16\u001b[39m, y\u001b[38;5;241m=\u001b[39m\u001b[38;5;241m1.1\u001b[39m,\n\u001b[0;32m     53\u001b[0m         xref\u001b[38;5;241m=\u001b[39m\u001b[38;5;124m\"\u001b[39m\u001b[38;5;124mpaper\u001b[39m\u001b[38;5;124m\"\u001b[39m, yref\u001b[38;5;241m=\u001b[39m\u001b[38;5;124m\"\u001b[39m\u001b[38;5;124mpaper\u001b[39m\u001b[38;5;124m\"\u001b[39m,\n\u001b[1;32m   (...)\u001b[0m\n\u001b[0;32m     56\u001b[0m         font\u001b[38;5;241m=\u001b[39m\u001b[38;5;28mdict\u001b[39m(size\u001b[38;5;241m=\u001b[39m\u001b[38;5;241m18\u001b[39m, color\u001b[38;5;241m=\u001b[39m\u001b[38;5;124m\"\u001b[39m\u001b[38;5;124mblack\u001b[39m\u001b[38;5;124m\"\u001b[39m)\n\u001b[0;32m     57\u001b[0m     ))\n\u001b[0;32m     59\u001b[0m fig\u001b[38;5;241m.\u001b[39mupdate_layout(\n\u001b[0;32m     60\u001b[0m     title\u001b[38;5;241m=\u001b[39m\u001b[38;5;124m\"\u001b[39m\u001b[38;5;124mDistance parcourue à haute vitesse\u001b[39m\u001b[38;5;124m\"\u001b[39m,\n\u001b[0;32m     61\u001b[0m     showlegend\u001b[38;5;241m=\u001b[39m\u001b[38;5;28;01mTrue\u001b[39;00m,\n\u001b[0;32m     62\u001b[0m     annotations\u001b[38;5;241m=\u001b[39mannotations\n\u001b[0;32m     63\u001b[0m )\n\u001b[1;32m---> 64\u001b[0m \u001b[43mfig\u001b[49m\u001b[38;5;241;43m.\u001b[39;49m\u001b[43mshow\u001b[49m\u001b[43m(\u001b[49m\u001b[43m)\u001b[49m\n",
                        "File \u001b[1;32mc:\\Users\\RémiJAYLET\\Documents\\eleven_viz\\.venv\\lib\\site-packages\\plotly\\basedatatypes.py:3390\u001b[0m, in \u001b[0;36mBaseFigure.show\u001b[1;34m(self, *args, **kwargs)\u001b[0m\n\u001b[0;32m   3357\u001b[0m \u001b[38;5;250m\u001b[39m\u001b[38;5;124;03m\"\"\"\u001b[39;00m\n\u001b[0;32m   3358\u001b[0m \u001b[38;5;124;03mShow a figure using either the default renderer(s) or the renderer(s)\u001b[39;00m\n\u001b[0;32m   3359\u001b[0m \u001b[38;5;124;03mspecified by the renderer argument\u001b[39;00m\n\u001b[1;32m   (...)\u001b[0m\n\u001b[0;32m   3386\u001b[0m \u001b[38;5;124;03mNone\u001b[39;00m\n\u001b[0;32m   3387\u001b[0m \u001b[38;5;124;03m\"\"\"\u001b[39;00m\n\u001b[0;32m   3388\u001b[0m \u001b[38;5;28;01mimport\u001b[39;00m\u001b[38;5;250m \u001b[39m\u001b[38;5;21;01mplotly\u001b[39;00m\u001b[38;5;21;01m.\u001b[39;00m\u001b[38;5;21;01mio\u001b[39;00m\u001b[38;5;250m \u001b[39m\u001b[38;5;28;01mas\u001b[39;00m\u001b[38;5;250m \u001b[39m\u001b[38;5;21;01mpio\u001b[39;00m\n\u001b[1;32m-> 3390\u001b[0m \u001b[38;5;28;01mreturn\u001b[39;00m pio\u001b[38;5;241m.\u001b[39mshow(\u001b[38;5;28mself\u001b[39m, \u001b[38;5;241m*\u001b[39margs, \u001b[38;5;241m*\u001b[39m\u001b[38;5;241m*\u001b[39mkwargs)\n",
                        "File \u001b[1;32mc:\\Users\\RémiJAYLET\\Documents\\eleven_viz\\.venv\\lib\\site-packages\\plotly\\io\\_renderers.py:396\u001b[0m, in \u001b[0;36mshow\u001b[1;34m(fig, renderer, validate, **kwargs)\u001b[0m\n\u001b[0;32m    391\u001b[0m         \u001b[38;5;28;01mraise\u001b[39;00m \u001b[38;5;167;01mValueError\u001b[39;00m(\n\u001b[0;32m    392\u001b[0m             \u001b[38;5;124m\"\u001b[39m\u001b[38;5;124mMime type rendering requires ipython but it is not installed\u001b[39m\u001b[38;5;124m\"\u001b[39m\n\u001b[0;32m    393\u001b[0m         )\n\u001b[0;32m    395\u001b[0m     \u001b[38;5;28;01mif\u001b[39;00m \u001b[38;5;129;01mnot\u001b[39;00m nbformat \u001b[38;5;129;01mor\u001b[39;00m Version(nbformat\u001b[38;5;241m.\u001b[39m__version__) \u001b[38;5;241m<\u001b[39m Version(\u001b[38;5;124m\"\u001b[39m\u001b[38;5;124m4.2.0\u001b[39m\u001b[38;5;124m\"\u001b[39m):\n\u001b[1;32m--> 396\u001b[0m         \u001b[38;5;28;01mraise\u001b[39;00m \u001b[38;5;167;01mValueError\u001b[39;00m(\n\u001b[0;32m    397\u001b[0m             \u001b[38;5;124m\"\u001b[39m\u001b[38;5;124mMime type rendering requires nbformat>=4.2.0 but it is not installed\u001b[39m\u001b[38;5;124m\"\u001b[39m\n\u001b[0;32m    398\u001b[0m         )\n\u001b[0;32m    400\u001b[0m     ipython_display\u001b[38;5;241m.\u001b[39mdisplay(bundle, raw\u001b[38;5;241m=\u001b[39m\u001b[38;5;28;01mTrue\u001b[39;00m)\n\u001b[0;32m    402\u001b[0m \u001b[38;5;66;03m# external renderers\u001b[39;00m\n",
                        "\u001b[1;31mValueError\u001b[0m: Mime type rendering requires nbformat>=4.2.0 but it is not installed"
                    ]
                }
            ],
            "source": [
                "stats_vs_match_time(df_filtered.copy())"
            ]
        },
        {
            "cell_type": "code",
            "execution_count": null,
            "metadata": {},
            "outputs": [
                {
                    "name": "stderr",
                    "output_type": "stream",
                    "text": [
                        "c:\\Python312\\Lib\\site-packages\\plotly\\express\\_core.py:1980: FutureWarning:\n",
                        "\n",
                        "When grouping with a length-1 list-like, you will need to pass a length-1 tuple to get_group in a future version of pandas. Pass `(name,)` instead of `name` to silence this warning.\n",
                        "\n"
                    ]
                },
                {
                    "data": {
                        "application/vnd.plotly.v1+json": {
                            "config": {
                                "plotlyServerURL": "https://plot.ly"
                            },
                            "data": [
                                {
                                    "alignmentgroup": "True",
                                    "bingroup": "x",
                                    "hovertemplate": "duration_group=<30min<br>distance=%{x}<br>count=%{y}<extra></extra>",
                                    "legendgroup": "<30min",
                                    "marker": {
                                        "color": "rgba(255, 0, 0, 0.8)",
                                        "opacity": 0.5,
                                        "pattern": {
                                            "shape": ""
                                        }
                                    },
                                    "name": "<30min",
                                    "offsetgroup": "<30min",
                                    "orientation": "v",
                                    "showlegend": true,
                                    "type": "histogram",
                                    "x": [
                                        3171.196542,
                                        3491.169199,
                                        2337.306867,
                                        1464.543251,
                                        1911.770537,
                                        4513.413749,
                                        868.7407648,
                                        2736.889735,
                                        1523.77108,
                                        1935.425236,
                                        1809.358971,
                                        2390.255712,
                                        2694.229565,
                                        1590.147756,
                                        2402.827379,
                                        1528.094743,
                                        7207.360425,
                                        1169.998032,
                                        5778.224429,
                                        3218.229847,
                                        4621.085135
                                    ],
                                    "xaxis": "x",
                                    "yaxis": "y"
                                },
                                {
                                    "alignmentgroup": "True",
                                    "bingroup": "x",
                                    "hovertemplate": "duration_group=30-60min<br>distance=%{x}<br>count=%{y}<extra></extra>",
                                    "legendgroup": "30-60min",
                                    "marker": {
                                        "color": "rgba(0, 255, 0, 0.6)",
                                        "opacity": 0.5,
                                        "pattern": {
                                            "shape": ""
                                        }
                                    },
                                    "name": "30-60min",
                                    "offsetgroup": "30-60min",
                                    "orientation": "v",
                                    "showlegend": true,
                                    "type": "histogram",
                                    "x": [
                                        5654.028319,
                                        2821.360564,
                                        2436.343984,
                                        3871.322539,
                                        1419.717131,
                                        5380.990631,
                                        3128.296272,
                                        3769.789047,
                                        1653.959753,
                                        3755.942243,
                                        2556.075053,
                                        1195.107351,
                                        2246.872857,
                                        2412.574632,
                                        3282.389955,
                                        5682.388525,
                                        2978.612609,
                                        4286.457344,
                                        3958.094064,
                                        6490.633016,
                                        2919.951985,
                                        3554.762789,
                                        3038.770565,
                                        8088.84218,
                                        2636.880762,
                                        3717.647205,
                                        3759.504512,
                                        5263.518831,
                                        3085.026241,
                                        3578.524357,
                                        2233.526604,
                                        1894.150257,
                                        4324.185366,
                                        3955.15778,
                                        3435.753831,
                                        2693.308962,
                                        3601.569057,
                                        3126.246897,
                                        2574.957022,
                                        3661.730908,
                                        4009.743596,
                                        6045.131801,
                                        3628.521222,
                                        5483.738794,
                                        2743.606136,
                                        2190.219063,
                                        2274.347825,
                                        2403.750471,
                                        4864.689907,
                                        4284.103153,
                                        2542.877846,
                                        3435.635707,
                                        4215.198739,
                                        2107.43894,
                                        6040.194147,
                                        4388.575027,
                                        1830.25127,
                                        2667.198607,
                                        3848.900937,
                                        2068.231695,
                                        4094.97042,
                                        2119.116861,
                                        3239.236797,
                                        2926.692801,
                                        2918.438907,
                                        3577.465034,
                                        4466.820988,
                                        4769.307897,
                                        5157.44512,
                                        2426.763699,
                                        4106.550665,
                                        1696.303915,
                                        4244.786232,
                                        4257.722836,
                                        6385.700228,
                                        4060.754307,
                                        3357.117004,
                                        3283.160003,
                                        4480.238801,
                                        5213.359428,
                                        4397.700359,
                                        3332.412945,
                                        3690.197045,
                                        4308.521695,
                                        1801.907138,
                                        4338.275395,
                                        3580.918969,
                                        2282.175388,
                                        6206.725066,
                                        4754.925222,
                                        1201.191671,
                                        3842.476884,
                                        4035.450735,
                                        5561.202641,
                                        2757.710708,
                                        3974.718473,
                                        4120.241253,
                                        3280.503846,
                                        2598.458423,
                                        6585.738527,
                                        3420.251228,
                                        3385.624978,
                                        2963.98581,
                                        3595.21739,
                                        1866.383726,
                                        3514.641371,
                                        4938.844863,
                                        3166.618359,
                                        2858.089867,
                                        2831.40135,
                                        7479.689355,
                                        3763.62156,
                                        3102.248466,
                                        1935.471089,
                                        3244.280098,
                                        3368.721266,
                                        4254.805877,
                                        2697.592513,
                                        7354.290174,
                                        2257.609911,
                                        5083.728783,
                                        3075.462372,
                                        2496.50659,
                                        6078.277699,
                                        2272.246306,
                                        1340.679167,
                                        6342.738643,
                                        4147.390082,
                                        2815.619133,
                                        4109.527636,
                                        1974.722903,
                                        2954.769779,
                                        3594.071377,
                                        3910.924298,
                                        7295.957331,
                                        3095.016938,
                                        2860.203325,
                                        3165.690342,
                                        6464.2111,
                                        3444.150988,
                                        2587.131755,
                                        3655.996877,
                                        6736.436637,
                                        2494.611114,
                                        1733.424229,
                                        5705.631735,
                                        2838.938202,
                                        2359.144834,
                                        4688.605552,
                                        7297.012479,
                                        4566.036598,
                                        6395.683063,
                                        4280.251585,
                                        2369.900801,
                                        6801.803508,
                                        5959.477141,
                                        2495.957812,
                                        7031.352445,
                                        3642.434691,
                                        4131.525236,
                                        6235.00907,
                                        2908.759541,
                                        5794.546512,
                                        4069.877059,
                                        3637.334122,
                                        8792.5845,
                                        4177.547377,
                                        5771.444638,
                                        4087.219531,
                                        5997.883275
                                    ],
                                    "xaxis": "x",
                                    "yaxis": "y"
                                },
                                {
                                    "alignmentgroup": "True",
                                    "bingroup": "x",
                                    "hovertemplate": "duration_group=>60min<br>distance=%{x}<br>count=%{y}<extra></extra>",
                                    "legendgroup": ">60min",
                                    "marker": {
                                        "color": "rgba(0, 0, 255, 0.2)",
                                        "opacity": 0.5,
                                        "pattern": {
                                            "shape": ""
                                        }
                                    },
                                    "name": ">60min",
                                    "offsetgroup": ">60min",
                                    "orientation": "v",
                                    "showlegend": true,
                                    "type": "histogram",
                                    "x": [
                                        4524.085076,
                                        5264.645855,
                                        6886.542272,
                                        2622.552016,
                                        7379.419445,
                                        6388.152035,
                                        3727.993084,
                                        4205.273933,
                                        10190.6242,
                                        3507.646465,
                                        4746.079919,
                                        4995.294095,
                                        3468.36657,
                                        5635.717452,
                                        3275.065816,
                                        5673.246746,
                                        5716.893586,
                                        9243.83888,
                                        4714.720847,
                                        3939.213092,
                                        4283.844231,
                                        6489.755554,
                                        4608.970329,
                                        5590.174035,
                                        4764.915757,
                                        6831.807937,
                                        5003.656438,
                                        2675.802324,
                                        5138.242651,
                                        3573.506891,
                                        5492.495697,
                                        4719.036826,
                                        4204.835622,
                                        4897.708424,
                                        7994.176379,
                                        6481.453235,
                                        8433.076205,
                                        6517.875457,
                                        5641.407219,
                                        3014.069068,
                                        2580.125049,
                                        4435.32419,
                                        4432.379185,
                                        11741.87661,
                                        4806.045344,
                                        3468.125369,
                                        12652.12978,
                                        3556.09284,
                                        8622.662508,
                                        5825.26028,
                                        4023.03016,
                                        3433.051303,
                                        5715.463619,
                                        4721.401147,
                                        5275.41234,
                                        5775.497577,
                                        3050.331044,
                                        8007.714695,
                                        3762.445731,
                                        4284.040209,
                                        2131.922298,
                                        4012.591543,
                                        5731.712273,
                                        3520.197903,
                                        3746.114236,
                                        3947.886941,
                                        6574.774088,
                                        7529.112029,
                                        7718.887318,
                                        7028.138073,
                                        5605.599751,
                                        9388.537127,
                                        7806.640087,
                                        6796.472191,
                                        9045.235009,
                                        6188.570998,
                                        9209.484025,
                                        9147.660878,
                                        5823.728474,
                                        9461.818238,
                                        7225.697598,
                                        9572.859968,
                                        12414.87762,
                                        6449.219441,
                                        3394.769216,
                                        3881.087809,
                                        4641.928368,
                                        6800.886979,
                                        6986.745826,
                                        8283.737651,
                                        6386.451619,
                                        5022.902329,
                                        7437.797317,
                                        3786.965454,
                                        4276.85189,
                                        2389.67961,
                                        4844.862033,
                                        3482.568082,
                                        3183.327653,
                                        3120.471743,
                                        3566.641256,
                                        8680.900594,
                                        2893.934339,
                                        5671.947,
                                        4432.248355,
                                        3998.551806,
                                        3388.641987,
                                        7244.526599,
                                        4205.672128,
                                        5365.722488,
                                        5140.230552,
                                        6717.393281,
                                        4155.708703,
                                        4476.817709,
                                        6051.793138,
                                        3778.615001,
                                        4082.582886,
                                        3707.807073,
                                        7196.621038,
                                        4677.823893,
                                        3667.229664,
                                        7551.210758,
                                        6742.656162,
                                        4025.867951,
                                        4304.575651,
                                        6371.046806,
                                        3620.916904,
                                        5008.848549,
                                        5054.764778,
                                        4809.144663,
                                        3711.729247,
                                        4690.492099,
                                        4035.496156,
                                        3497.15094,
                                        10857.31306,
                                        4157.794794,
                                        13193.00605,
                                        3261.61127,
                                        4131.969039,
                                        10531.23661,
                                        5616.510291,
                                        8953.714038,
                                        2662.084087,
                                        4554.695403,
                                        4330.336625,
                                        7010.538769,
                                        4345.378437,
                                        6005.667359,
                                        6777.108957,
                                        6929.994341,
                                        2384.996023,
                                        3531.911078,
                                        8719.147818,
                                        7890.10721,
                                        3429.224505,
                                        3449.610962,
                                        12538.74364,
                                        6349.03567,
                                        4382.617475,
                                        4086.615804,
                                        9013.767406,
                                        7347.992084,
                                        3756.647557,
                                        5103.879993,
                                        4625.693339,
                                        7878.198764,
                                        3930.631434,
                                        5136.026462,
                                        3499.280527,
                                        8392.04745,
                                        3125.057304,
                                        11946.59108,
                                        5076.582455,
                                        5240.362225,
                                        4658.681077,
                                        4074.469044,
                                        5001.323181,
                                        4427.442218,
                                        3424.3443,
                                        4789.000437,
                                        4102.920484,
                                        9699.565896,
                                        7814.366795,
                                        4505.063735,
                                        2949.963068,
                                        3187.477119,
                                        5348.260297,
                                        5768.904129,
                                        6103.124659,
                                        5061.846914,
                                        7213.515547,
                                        6689.641347,
                                        1628.639371,
                                        3823.07785,
                                        9064.380122,
                                        6328.023354,
                                        5996.999852,
                                        3820.680367,
                                        7645.275799,
                                        9577.250596,
                                        4422.413388,
                                        3595.202588,
                                        3698.55738,
                                        4730.673664,
                                        760.2110729,
                                        4203.92935,
                                        3023.510653,
                                        3772.339383,
                                        4912.234885,
                                        6509.953546,
                                        4531.551158,
                                        7324.489403,
                                        4617.543919,
                                        7185.390607,
                                        4129.097081,
                                        8482.372554,
                                        3233.694737,
                                        3917.867513,
                                        2702.812865,
                                        5029.838473,
                                        5724.999391,
                                        2955.840198,
                                        5748.701036,
                                        4202.646309,
                                        6235.339254,
                                        7691.871234,
                                        2690.073937,
                                        4428.028602,
                                        6847.605852,
                                        2582.792012,
                                        4379.721052,
                                        3879.872469,
                                        5677.150034,
                                        7562.076397,
                                        5864.143365,
                                        5025.233621,
                                        11489.30466,
                                        6233.822095,
                                        3619.204158,
                                        6615.353769,
                                        4121.539042,
                                        4789.729853,
                                        3035.936044,
                                        6950.186353,
                                        4589.164537,
                                        5823.386275,
                                        3191.794494,
                                        6506.194,
                                        2432.716539,
                                        3322.692414,
                                        9705.884726,
                                        4273.597784,
                                        5112.526664,
                                        7792.367725,
                                        2251.060772,
                                        4147.178776,
                                        9401.683277,
                                        3136.500913,
                                        3055.510343,
                                        9419.139201,
                                        3778.967953,
                                        5278.865402,
                                        5853.019555,
                                        5809.329109,
                                        4973.529003,
                                        4524.130732,
                                        7623.245874,
                                        4649.094919,
                                        5125.2198,
                                        9483.852577,
                                        3975.319652,
                                        7080.890527,
                                        4007.270505,
                                        7034.663255,
                                        5475.247135,
                                        8746.808456,
                                        3134.943069,
                                        4422.351734,
                                        10831.70678,
                                        2943.781236,
                                        3629.951717,
                                        8589.187292,
                                        5709.560254,
                                        5518.416086,
                                        5861.672813,
                                        5341.723039,
                                        5464.855965,
                                        4307.578634,
                                        7122.287136,
                                        3447.711599,
                                        4345.954022,
                                        3721.958901,
                                        5659.661552,
                                        8511.060839,
                                        4133.981438,
                                        4244.414311,
                                        4953.214085,
                                        9901.730001,
                                        4330.693294,
                                        4746.300544,
                                        9767.514052,
                                        3211.595364,
                                        3223.8253,
                                        10342.32785,
                                        6339.669604,
                                        4264.073723,
                                        5340.037856,
                                        6666.275929,
                                        10263.55192,
                                        1884.491434,
                                        3905.208514,
                                        8337.437971,
                                        2414.446133,
                                        6252.109057,
                                        5024.941942,
                                        3438.106158,
                                        5399.358454,
                                        5570.233412,
                                        6295.657939,
                                        4822.972115,
                                        9414.58793,
                                        4988.71711,
                                        11118.5901,
                                        4516.365897,
                                        2811.984255,
                                        8444.69724,
                                        5038.589641,
                                        4034.132425,
                                        3365.146495,
                                        4454.68346,
                                        8939.250036,
                                        5327.005771,
                                        5993.469858,
                                        3877.652582,
                                        5225.177013,
                                        6178.480804,
                                        9823.494991,
                                        4023.005985,
                                        10105.28955,
                                        6222.059675,
                                        3975.243669,
                                        6073.135406,
                                        10511.76517,
                                        2569.026886,
                                        4018.598182,
                                        5947.895493,
                                        6286.559024,
                                        6791.998328,
                                        2355.628045,
                                        5387.530861,
                                        3133.131349,
                                        10532.64671,
                                        5114.786643,
                                        3271.981216,
                                        5645.102922,
                                        10871.14825,
                                        3626.202748,
                                        8699.668739,
                                        4500.724694,
                                        6711.565225,
                                        5020.869577,
                                        6104.610874,
                                        10490.68823,
                                        5432.013397,
                                        5063.106666,
                                        4663.330765,
                                        9183.916333,
                                        3876.462628,
                                        11947.07038,
                                        6552.390285,
                                        5932.199403,
                                        6562.541608,
                                        8451.998742,
                                        3149.409009,
                                        4917.515287,
                                        7959.182113,
                                        2636.534963,
                                        7125.838928,
                                        5692.63971,
                                        5838.209087,
                                        9855.816515,
                                        5643.882766,
                                        2854.494081,
                                        4952.72204,
                                        4564.664388,
                                        10117.62813,
                                        6257.723905,
                                        5480.093489,
                                        5552.796305,
                                        4802.145415,
                                        4572.250756,
                                        2108.599757,
                                        6624.822251,
                                        7062.71014,
                                        5649.444367,
                                        7475.662278,
                                        7184.386995,
                                        6290.433548,
                                        5179.602452,
                                        7092.246458,
                                        3804.12974,
                                        4407.130689,
                                        5289.662806,
                                        3486.041563,
                                        11243.52696,
                                        3539.878322,
                                        3638.843894,
                                        8948.413214,
                                        6023.535953,
                                        5705.260548,
                                        11185.0685,
                                        4533.609911,
                                        5373.182525,
                                        5324.17885,
                                        3968.08187,
                                        3776.877362,
                                        2795.287414,
                                        5466.890631,
                                        4612.179532,
                                        5502.077344,
                                        10184.81155,
                                        7412.345568,
                                        8119.459686,
                                        4686.078288,
                                        6991.217886,
                                        5585.895135,
                                        8420.565841,
                                        5236.549248,
                                        8397.763583,
                                        6245.443401,
                                        8265.115489,
                                        7674.326185,
                                        6563.315331,
                                        3703.869238,
                                        4035.928756,
                                        4134.850876,
                                        8758.125912,
                                        3115.994781,
                                        3772.117139,
                                        4041.388804,
                                        3211.503787,
                                        3988.506059,
                                        8255.037395,
                                        5412.366338,
                                        4372.022631,
                                        7176.139782,
                                        5517.010201,
                                        6187.077874,
                                        6734.525828,
                                        5498.051017,
                                        8489.726417,
                                        6394.784813,
                                        8414.38727,
                                        6306.36144,
                                        6015.4982,
                                        3988.445187,
                                        11404.94599,
                                        4279.391496,
                                        5592.296526,
                                        5352.106228,
                                        13752.19611,
                                        4056.105986,
                                        3022.01725,
                                        4853.283229,
                                        7059.441852,
                                        4927.523664,
                                        5779.427334,
                                        11751.11731,
                                        6822.139637,
                                        3949.28699,
                                        5429.572392,
                                        3578.095722,
                                        15653.2508,
                                        7552.162892,
                                        4601.177278,
                                        6444.635014,
                                        4001.376035,
                                        3872.4608,
                                        9008.184763,
                                        6376.215856,
                                        5616.53076,
                                        6788.606679,
                                        4531.80628,
                                        2681.266481,
                                        4381.823964,
                                        6754.054957,
                                        3483.833771,
                                        2858.404149,
                                        6656.915887,
                                        7717.601369,
                                        6774.159423,
                                        9222.131679,
                                        5649.698118,
                                        3863.982185,
                                        9578.680355,
                                        7730.363276,
                                        5516.407877,
                                        5492.41704,
                                        5420.434623,
                                        7006.912748,
                                        6015.446709,
                                        5473.430629,
                                        6619.133235,
                                        8043.710667,
                                        6161.556982,
                                        5830.891897,
                                        3337.972252,
                                        12331.01779,
                                        7044.924951,
                                        3593.296987,
                                        8460.113451,
                                        5973.634928,
                                        6504.847584,
                                        6552.956398,
                                        4706.218135,
                                        7301.824049,
                                        3176.364698,
                                        7119.253572,
                                        4062.281285,
                                        4078.965587,
                                        3070.202878,
                                        12338.87035,
                                        7405.11567,
                                        7370.23549,
                                        6302.533331,
                                        6607.976423,
                                        4504.818356,
                                        3613.665318,
                                        5584.006613,
                                        5382.410857
                                    ],
                                    "xaxis": "x",
                                    "yaxis": "y"
                                }
                            ],
                            "layout": {
                                "barmode": "overlay",
                                "legend": {
                                    "title": {
                                        "text": "duration_group"
                                    },
                                    "tracegroupgap": 0
                                },
                                "template": {
                                    "data": {
                                        "bar": [
                                            {
                                                "error_x": {
                                                    "color": "#2a3f5f"
                                                },
                                                "error_y": {
                                                    "color": "#2a3f5f"
                                                },
                                                "marker": {
                                                    "line": {
                                                        "color": "#E5ECF6",
                                                        "width": 0.5
                                                    },
                                                    "pattern": {
                                                        "fillmode": "overlay",
                                                        "size": 10,
                                                        "solidity": 0.2
                                                    }
                                                },
                                                "type": "bar"
                                            }
                                        ],
                                        "barpolar": [
                                            {
                                                "marker": {
                                                    "line": {
                                                        "color": "#E5ECF6",
                                                        "width": 0.5
                                                    },
                                                    "pattern": {
                                                        "fillmode": "overlay",
                                                        "size": 10,
                                                        "solidity": 0.2
                                                    }
                                                },
                                                "type": "barpolar"
                                            }
                                        ],
                                        "carpet": [
                                            {
                                                "aaxis": {
                                                    "endlinecolor": "#2a3f5f",
                                                    "gridcolor": "white",
                                                    "linecolor": "white",
                                                    "minorgridcolor": "white",
                                                    "startlinecolor": "#2a3f5f"
                                                },
                                                "baxis": {
                                                    "endlinecolor": "#2a3f5f",
                                                    "gridcolor": "white",
                                                    "linecolor": "white",
                                                    "minorgridcolor": "white",
                                                    "startlinecolor": "#2a3f5f"
                                                },
                                                "type": "carpet"
                                            }
                                        ],
                                        "choropleth": [
                                            {
                                                "colorbar": {
                                                    "outlinewidth": 0,
                                                    "ticks": ""
                                                },
                                                "type": "choropleth"
                                            }
                                        ],
                                        "contour": [
                                            {
                                                "colorbar": {
                                                    "outlinewidth": 0,
                                                    "ticks": ""
                                                },
                                                "colorscale": [
                                                    [
                                                        0,
                                                        "#0d0887"
                                                    ],
                                                    [
                                                        0.1111111111111111,
                                                        "#46039f"
                                                    ],
                                                    [
                                                        0.2222222222222222,
                                                        "#7201a8"
                                                    ],
                                                    [
                                                        0.3333333333333333,
                                                        "#9c179e"
                                                    ],
                                                    [
                                                        0.4444444444444444,
                                                        "#bd3786"
                                                    ],
                                                    [
                                                        0.5555555555555556,
                                                        "#d8576b"
                                                    ],
                                                    [
                                                        0.6666666666666666,
                                                        "#ed7953"
                                                    ],
                                                    [
                                                        0.7777777777777778,
                                                        "#fb9f3a"
                                                    ],
                                                    [
                                                        0.8888888888888888,
                                                        "#fdca26"
                                                    ],
                                                    [
                                                        1,
                                                        "#f0f921"
                                                    ]
                                                ],
                                                "type": "contour"
                                            }
                                        ],
                                        "contourcarpet": [
                                            {
                                                "colorbar": {
                                                    "outlinewidth": 0,
                                                    "ticks": ""
                                                },
                                                "type": "contourcarpet"
                                            }
                                        ],
                                        "heatmap": [
                                            {
                                                "colorbar": {
                                                    "outlinewidth": 0,
                                                    "ticks": ""
                                                },
                                                "colorscale": [
                                                    [
                                                        0,
                                                        "#0d0887"
                                                    ],
                                                    [
                                                        0.1111111111111111,
                                                        "#46039f"
                                                    ],
                                                    [
                                                        0.2222222222222222,
                                                        "#7201a8"
                                                    ],
                                                    [
                                                        0.3333333333333333,
                                                        "#9c179e"
                                                    ],
                                                    [
                                                        0.4444444444444444,
                                                        "#bd3786"
                                                    ],
                                                    [
                                                        0.5555555555555556,
                                                        "#d8576b"
                                                    ],
                                                    [
                                                        0.6666666666666666,
                                                        "#ed7953"
                                                    ],
                                                    [
                                                        0.7777777777777778,
                                                        "#fb9f3a"
                                                    ],
                                                    [
                                                        0.8888888888888888,
                                                        "#fdca26"
                                                    ],
                                                    [
                                                        1,
                                                        "#f0f921"
                                                    ]
                                                ],
                                                "type": "heatmap"
                                            }
                                        ],
                                        "heatmapgl": [
                                            {
                                                "colorbar": {
                                                    "outlinewidth": 0,
                                                    "ticks": ""
                                                },
                                                "colorscale": [
                                                    [
                                                        0,
                                                        "#0d0887"
                                                    ],
                                                    [
                                                        0.1111111111111111,
                                                        "#46039f"
                                                    ],
                                                    [
                                                        0.2222222222222222,
                                                        "#7201a8"
                                                    ],
                                                    [
                                                        0.3333333333333333,
                                                        "#9c179e"
                                                    ],
                                                    [
                                                        0.4444444444444444,
                                                        "#bd3786"
                                                    ],
                                                    [
                                                        0.5555555555555556,
                                                        "#d8576b"
                                                    ],
                                                    [
                                                        0.6666666666666666,
                                                        "#ed7953"
                                                    ],
                                                    [
                                                        0.7777777777777778,
                                                        "#fb9f3a"
                                                    ],
                                                    [
                                                        0.8888888888888888,
                                                        "#fdca26"
                                                    ],
                                                    [
                                                        1,
                                                        "#f0f921"
                                                    ]
                                                ],
                                                "type": "heatmapgl"
                                            }
                                        ],
                                        "histogram": [
                                            {
                                                "marker": {
                                                    "pattern": {
                                                        "fillmode": "overlay",
                                                        "size": 10,
                                                        "solidity": 0.2
                                                    }
                                                },
                                                "type": "histogram"
                                            }
                                        ],
                                        "histogram2d": [
                                            {
                                                "colorbar": {
                                                    "outlinewidth": 0,
                                                    "ticks": ""
                                                },
                                                "colorscale": [
                                                    [
                                                        0,
                                                        "#0d0887"
                                                    ],
                                                    [
                                                        0.1111111111111111,
                                                        "#46039f"
                                                    ],
                                                    [
                                                        0.2222222222222222,
                                                        "#7201a8"
                                                    ],
                                                    [
                                                        0.3333333333333333,
                                                        "#9c179e"
                                                    ],
                                                    [
                                                        0.4444444444444444,
                                                        "#bd3786"
                                                    ],
                                                    [
                                                        0.5555555555555556,
                                                        "#d8576b"
                                                    ],
                                                    [
                                                        0.6666666666666666,
                                                        "#ed7953"
                                                    ],
                                                    [
                                                        0.7777777777777778,
                                                        "#fb9f3a"
                                                    ],
                                                    [
                                                        0.8888888888888888,
                                                        "#fdca26"
                                                    ],
                                                    [
                                                        1,
                                                        "#f0f921"
                                                    ]
                                                ],
                                                "type": "histogram2d"
                                            }
                                        ],
                                        "histogram2dcontour": [
                                            {
                                                "colorbar": {
                                                    "outlinewidth": 0,
                                                    "ticks": ""
                                                },
                                                "colorscale": [
                                                    [
                                                        0,
                                                        "#0d0887"
                                                    ],
                                                    [
                                                        0.1111111111111111,
                                                        "#46039f"
                                                    ],
                                                    [
                                                        0.2222222222222222,
                                                        "#7201a8"
                                                    ],
                                                    [
                                                        0.3333333333333333,
                                                        "#9c179e"
                                                    ],
                                                    [
                                                        0.4444444444444444,
                                                        "#bd3786"
                                                    ],
                                                    [
                                                        0.5555555555555556,
                                                        "#d8576b"
                                                    ],
                                                    [
                                                        0.6666666666666666,
                                                        "#ed7953"
                                                    ],
                                                    [
                                                        0.7777777777777778,
                                                        "#fb9f3a"
                                                    ],
                                                    [
                                                        0.8888888888888888,
                                                        "#fdca26"
                                                    ],
                                                    [
                                                        1,
                                                        "#f0f921"
                                                    ]
                                                ],
                                                "type": "histogram2dcontour"
                                            }
                                        ],
                                        "mesh3d": [
                                            {
                                                "colorbar": {
                                                    "outlinewidth": 0,
                                                    "ticks": ""
                                                },
                                                "type": "mesh3d"
                                            }
                                        ],
                                        "parcoords": [
                                            {
                                                "line": {
                                                    "colorbar": {
                                                        "outlinewidth": 0,
                                                        "ticks": ""
                                                    }
                                                },
                                                "type": "parcoords"
                                            }
                                        ],
                                        "pie": [
                                            {
                                                "automargin": true,
                                                "type": "pie"
                                            }
                                        ],
                                        "scatter": [
                                            {
                                                "fillpattern": {
                                                    "fillmode": "overlay",
                                                    "size": 10,
                                                    "solidity": 0.2
                                                },
                                                "type": "scatter"
                                            }
                                        ],
                                        "scatter3d": [
                                            {
                                                "line": {
                                                    "colorbar": {
                                                        "outlinewidth": 0,
                                                        "ticks": ""
                                                    }
                                                },
                                                "marker": {
                                                    "colorbar": {
                                                        "outlinewidth": 0,
                                                        "ticks": ""
                                                    }
                                                },
                                                "type": "scatter3d"
                                            }
                                        ],
                                        "scattercarpet": [
                                            {
                                                "marker": {
                                                    "colorbar": {
                                                        "outlinewidth": 0,
                                                        "ticks": ""
                                                    }
                                                },
                                                "type": "scattercarpet"
                                            }
                                        ],
                                        "scattergeo": [
                                            {
                                                "marker": {
                                                    "colorbar": {
                                                        "outlinewidth": 0,
                                                        "ticks": ""
                                                    }
                                                },
                                                "type": "scattergeo"
                                            }
                                        ],
                                        "scattergl": [
                                            {
                                                "marker": {
                                                    "colorbar": {
                                                        "outlinewidth": 0,
                                                        "ticks": ""
                                                    }
                                                },
                                                "type": "scattergl"
                                            }
                                        ],
                                        "scattermapbox": [
                                            {
                                                "marker": {
                                                    "colorbar": {
                                                        "outlinewidth": 0,
                                                        "ticks": ""
                                                    }
                                                },
                                                "type": "scattermapbox"
                                            }
                                        ],
                                        "scatterpolar": [
                                            {
                                                "marker": {
                                                    "colorbar": {
                                                        "outlinewidth": 0,
                                                        "ticks": ""
                                                    }
                                                },
                                                "type": "scatterpolar"
                                            }
                                        ],
                                        "scatterpolargl": [
                                            {
                                                "marker": {
                                                    "colorbar": {
                                                        "outlinewidth": 0,
                                                        "ticks": ""
                                                    }
                                                },
                                                "type": "scatterpolargl"
                                            }
                                        ],
                                        "scatterternary": [
                                            {
                                                "marker": {
                                                    "colorbar": {
                                                        "outlinewidth": 0,
                                                        "ticks": ""
                                                    }
                                                },
                                                "type": "scatterternary"
                                            }
                                        ],
                                        "surface": [
                                            {
                                                "colorbar": {
                                                    "outlinewidth": 0,
                                                    "ticks": ""
                                                },
                                                "colorscale": [
                                                    [
                                                        0,
                                                        "#0d0887"
                                                    ],
                                                    [
                                                        0.1111111111111111,
                                                        "#46039f"
                                                    ],
                                                    [
                                                        0.2222222222222222,
                                                        "#7201a8"
                                                    ],
                                                    [
                                                        0.3333333333333333,
                                                        "#9c179e"
                                                    ],
                                                    [
                                                        0.4444444444444444,
                                                        "#bd3786"
                                                    ],
                                                    [
                                                        0.5555555555555556,
                                                        "#d8576b"
                                                    ],
                                                    [
                                                        0.6666666666666666,
                                                        "#ed7953"
                                                    ],
                                                    [
                                                        0.7777777777777778,
                                                        "#fb9f3a"
                                                    ],
                                                    [
                                                        0.8888888888888888,
                                                        "#fdca26"
                                                    ],
                                                    [
                                                        1,
                                                        "#f0f921"
                                                    ]
                                                ],
                                                "type": "surface"
                                            }
                                        ],
                                        "table": [
                                            {
                                                "cells": {
                                                    "fill": {
                                                        "color": "#EBF0F8"
                                                    },
                                                    "line": {
                                                        "color": "white"
                                                    }
                                                },
                                                "header": {
                                                    "fill": {
                                                        "color": "#C8D4E3"
                                                    },
                                                    "line": {
                                                        "color": "white"
                                                    }
                                                },
                                                "type": "table"
                                            }
                                        ]
                                    },
                                    "layout": {
                                        "annotationdefaults": {
                                            "arrowcolor": "#2a3f5f",
                                            "arrowhead": 0,
                                            "arrowwidth": 1
                                        },
                                        "autotypenumbers": "strict",
                                        "coloraxis": {
                                            "colorbar": {
                                                "outlinewidth": 0,
                                                "ticks": ""
                                            }
                                        },
                                        "colorscale": {
                                            "diverging": [
                                                [
                                                    0,
                                                    "#8e0152"
                                                ],
                                                [
                                                    0.1,
                                                    "#c51b7d"
                                                ],
                                                [
                                                    0.2,
                                                    "#de77ae"
                                                ],
                                                [
                                                    0.3,
                                                    "#f1b6da"
                                                ],
                                                [
                                                    0.4,
                                                    "#fde0ef"
                                                ],
                                                [
                                                    0.5,
                                                    "#f7f7f7"
                                                ],
                                                [
                                                    0.6,
                                                    "#e6f5d0"
                                                ],
                                                [
                                                    0.7,
                                                    "#b8e186"
                                                ],
                                                [
                                                    0.8,
                                                    "#7fbc41"
                                                ],
                                                [
                                                    0.9,
                                                    "#4d9221"
                                                ],
                                                [
                                                    1,
                                                    "#276419"
                                                ]
                                            ],
                                            "sequential": [
                                                [
                                                    0,
                                                    "#0d0887"
                                                ],
                                                [
                                                    0.1111111111111111,
                                                    "#46039f"
                                                ],
                                                [
                                                    0.2222222222222222,
                                                    "#7201a8"
                                                ],
                                                [
                                                    0.3333333333333333,
                                                    "#9c179e"
                                                ],
                                                [
                                                    0.4444444444444444,
                                                    "#bd3786"
                                                ],
                                                [
                                                    0.5555555555555556,
                                                    "#d8576b"
                                                ],
                                                [
                                                    0.6666666666666666,
                                                    "#ed7953"
                                                ],
                                                [
                                                    0.7777777777777778,
                                                    "#fb9f3a"
                                                ],
                                                [
                                                    0.8888888888888888,
                                                    "#fdca26"
                                                ],
                                                [
                                                    1,
                                                    "#f0f921"
                                                ]
                                            ],
                                            "sequentialminus": [
                                                [
                                                    0,
                                                    "#0d0887"
                                                ],
                                                [
                                                    0.1111111111111111,
                                                    "#46039f"
                                                ],
                                                [
                                                    0.2222222222222222,
                                                    "#7201a8"
                                                ],
                                                [
                                                    0.3333333333333333,
                                                    "#9c179e"
                                                ],
                                                [
                                                    0.4444444444444444,
                                                    "#bd3786"
                                                ],
                                                [
                                                    0.5555555555555556,
                                                    "#d8576b"
                                                ],
                                                [
                                                    0.6666666666666666,
                                                    "#ed7953"
                                                ],
                                                [
                                                    0.7777777777777778,
                                                    "#fb9f3a"
                                                ],
                                                [
                                                    0.8888888888888888,
                                                    "#fdca26"
                                                ],
                                                [
                                                    1,
                                                    "#f0f921"
                                                ]
                                            ]
                                        },
                                        "colorway": [
                                            "#636efa",
                                            "#EF553B",
                                            "#00cc96",
                                            "#ab63fa",
                                            "#FFA15A",
                                            "#19d3f3",
                                            "#FF6692",
                                            "#B6E880",
                                            "#FF97FF",
                                            "#FECB52"
                                        ],
                                        "font": {
                                            "color": "#2a3f5f"
                                        },
                                        "geo": {
                                            "bgcolor": "white",
                                            "lakecolor": "white",
                                            "landcolor": "#E5ECF6",
                                            "showlakes": true,
                                            "showland": true,
                                            "subunitcolor": "white"
                                        },
                                        "hoverlabel": {
                                            "align": "left"
                                        },
                                        "hovermode": "closest",
                                        "mapbox": {
                                            "style": "light"
                                        },
                                        "paper_bgcolor": "white",
                                        "plot_bgcolor": "#E5ECF6",
                                        "polar": {
                                            "angularaxis": {
                                                "gridcolor": "white",
                                                "linecolor": "white",
                                                "ticks": ""
                                            },
                                            "bgcolor": "#E5ECF6",
                                            "radialaxis": {
                                                "gridcolor": "white",
                                                "linecolor": "white",
                                                "ticks": ""
                                            }
                                        },
                                        "scene": {
                                            "xaxis": {
                                                "backgroundcolor": "#E5ECF6",
                                                "gridcolor": "white",
                                                "gridwidth": 2,
                                                "linecolor": "white",
                                                "showbackground": true,
                                                "ticks": "",
                                                "zerolinecolor": "white"
                                            },
                                            "yaxis": {
                                                "backgroundcolor": "#E5ECF6",
                                                "gridcolor": "white",
                                                "gridwidth": 2,
                                                "linecolor": "white",
                                                "showbackground": true,
                                                "ticks": "",
                                                "zerolinecolor": "white"
                                            },
                                            "zaxis": {
                                                "backgroundcolor": "#E5ECF6",
                                                "gridcolor": "white",
                                                "gridwidth": 2,
                                                "linecolor": "white",
                                                "showbackground": true,
                                                "ticks": "",
                                                "zerolinecolor": "white"
                                            }
                                        },
                                        "shapedefaults": {
                                            "line": {
                                                "color": "#2a3f5f"
                                            }
                                        },
                                        "ternary": {
                                            "aaxis": {
                                                "gridcolor": "white",
                                                "linecolor": "white",
                                                "ticks": ""
                                            },
                                            "baxis": {
                                                "gridcolor": "white",
                                                "linecolor": "white",
                                                "ticks": ""
                                            },
                                            "bgcolor": "#E5ECF6",
                                            "caxis": {
                                                "gridcolor": "white",
                                                "linecolor": "white",
                                                "ticks": ""
                                            }
                                        },
                                        "title": {
                                            "x": 0.05
                                        },
                                        "xaxis": {
                                            "automargin": true,
                                            "gridcolor": "white",
                                            "linecolor": "white",
                                            "ticks": "",
                                            "title": {
                                                "standoff": 15
                                            },
                                            "zerolinecolor": "white",
                                            "zerolinewidth": 2
                                        },
                                        "yaxis": {
                                            "automargin": true,
                                            "gridcolor": "white",
                                            "linecolor": "white",
                                            "ticks": "",
                                            "title": {
                                                "standoff": 15
                                            },
                                            "zerolinecolor": "white",
                                            "zerolinewidth": 2
                                        }
                                    }
                                },
                                "title": {
                                    "text": "Distance Distribution by Match Duration"
                                },
                                "xaxis": {
                                    "anchor": "y",
                                    "domain": [
                                        0,
                                        1
                                    ],
                                    "title": {
                                        "text": "distance"
                                    }
                                },
                                "yaxis": {
                                    "anchor": "x",
                                    "domain": [
                                        0,
                                        1
                                    ],
                                    "title": {
                                        "text": "count"
                                    }
                                }
                            }
                        }
                    },
                    "metadata": {},
                    "output_type": "display_data"
                }
            ],
            "source": [
                "plot_distance_distribution_by_duration(df_filtered)"
            ]
        },
        {
            "cell_type": "code",
            "execution_count": 32,
            "metadata": {},
            "outputs": [
                {
                    "ename": "ValueError",
                    "evalue": "could not convert string to float: '00:03:40'",
                    "output_type": "error",
                    "traceback": [
                        "\u001b[1;31m---------------------------------------------------------------------------\u001b[0m",
                        "\u001b[1;31mValueError\u001b[0m                                Traceback (most recent call last)",
                        "\u001b[1;32m~\\AppData\\Local\\Temp\\ipykernel_16552\\609092448.py\u001b[0m in \u001b[0;36m?\u001b[1;34m()\u001b[0m\n\u001b[1;32m----> 1\u001b[1;33m df_training_with_clusters, df_matches_with_clusters = cluster_performance(df_trainings, df_matches, [\n\u001b[0m\u001b[0;32m      2\u001b[0m     \u001b[1;34m'distance'\u001b[0m\u001b[1;33m,\u001b[0m \u001b[1;34m'distance_over_21'\u001b[0m\u001b[1;33m,\u001b[0m \u001b[1;34m'distance_over_24'\u001b[0m\u001b[1;33m,\u001b[0m \u001b[1;34m'distance_over_27'\u001b[0m\u001b[1;33m,\u001b[0m\u001b[1;33m\u001b[0m\u001b[1;33m\u001b[0m\u001b[0m\n\u001b[0;32m      3\u001b[0m     \u001b[1;34m'accel_decel_over_2_5'\u001b[0m\u001b[1;33m,\u001b[0m \u001b[1;34m'accel_decel_over_3_5'\u001b[0m\u001b[1;33m,\u001b[0m \u001b[1;34m'accel_decel_over_4_5'\u001b[0m\u001b[1;33m,\u001b[0m\u001b[1;33m\u001b[0m\u001b[1;33m\u001b[0m\u001b[0m\n\u001b[0;32m      4\u001b[0m     \u001b[1;34m'peak_speed'\u001b[0m\u001b[1;33m,\u001b[0m \u001b[1;34m'hr_zone_1_hms'\u001b[0m\u001b[1;33m,\u001b[0m \u001b[1;34m'hr_zone_2_hms'\u001b[0m\u001b[1;33m,\u001b[0m \u001b[1;34m'hr_zone_3_hms'\u001b[0m\u001b[1;33m,\u001b[0m \u001b[1;34m'hr_zone_4_hms'\u001b[0m\u001b[1;33m,\u001b[0m \u001b[1;34m'hr_zone_5_hms'\u001b[0m\u001b[1;33m\u001b[0m\u001b[1;33m\u001b[0m\u001b[0m\n",
                        "\u001b[1;32mc:\\Users\\RémiJAYLET\\Documents\\eleven_viz\\sandbox\\functions\\gps\\cluster_performance.py\u001b[0m in \u001b[0;36m?\u001b[1;34m(df_trainings, df_matches, features, n_clusters)\u001b[0m\n\u001b[0;32m     23\u001b[0m     \u001b[0mdf_matches_copy\u001b[0m \u001b[1;33m=\u001b[0m \u001b[0mdf_matches\u001b[0m\u001b[1;33m.\u001b[0m\u001b[0mcopy\u001b[0m\u001b[1;33m(\u001b[0m\u001b[1;33m)\u001b[0m\u001b[1;33m\u001b[0m\u001b[1;33m\u001b[0m\u001b[0m\n\u001b[0;32m     24\u001b[0m \u001b[1;33m\u001b[0m\u001b[0m\n\u001b[0;32m     25\u001b[0m     \u001b[1;31m# Normalize the data\u001b[0m\u001b[1;33m\u001b[0m\u001b[1;33m\u001b[0m\u001b[0m\n\u001b[0;32m     26\u001b[0m     \u001b[0mscaler\u001b[0m \u001b[1;33m=\u001b[0m \u001b[0mStandardScaler\u001b[0m\u001b[1;33m(\u001b[0m\u001b[1;33m)\u001b[0m\u001b[1;33m\u001b[0m\u001b[1;33m\u001b[0m\u001b[0m\n\u001b[1;32m---> 27\u001b[1;33m     \u001b[0mdf_training_scaled\u001b[0m \u001b[1;33m=\u001b[0m \u001b[0mscaler\u001b[0m\u001b[1;33m.\u001b[0m\u001b[0mfit_transform\u001b[0m\u001b[1;33m(\u001b[0m\u001b[0mdf_training_copy\u001b[0m\u001b[1;33m[\u001b[0m\u001b[0mfeatures\u001b[0m\u001b[1;33m]\u001b[0m\u001b[1;33m)\u001b[0m\u001b[1;33m\u001b[0m\u001b[1;33m\u001b[0m\u001b[0m\n\u001b[0m\u001b[0;32m     28\u001b[0m \u001b[1;33m\u001b[0m\u001b[0m\n\u001b[0;32m     29\u001b[0m     \u001b[1;31m# Apply K-Means clustering on training data\u001b[0m\u001b[1;33m\u001b[0m\u001b[1;33m\u001b[0m\u001b[0m\n\u001b[0;32m     30\u001b[0m     \u001b[0mkmeans_trainings\u001b[0m \u001b[1;33m=\u001b[0m \u001b[0mKMeans\u001b[0m\u001b[1;33m(\u001b[0m\u001b[0mn_clusters\u001b[0m\u001b[1;33m=\u001b[0m\u001b[0mn_clusters\u001b[0m\u001b[1;33m,\u001b[0m \u001b[0mrandom_state\u001b[0m\u001b[1;33m=\u001b[0m\u001b[1;36m42\u001b[0m\u001b[1;33m,\u001b[0m \u001b[0mn_init\u001b[0m\u001b[1;33m=\u001b[0m\u001b[1;36m10\u001b[0m\u001b[1;33m)\u001b[0m\u001b[1;33m\u001b[0m\u001b[1;33m\u001b[0m\u001b[0m\n",
                        "\u001b[1;32mc:\\Users\\RémiJAYLET\\Documents\\eleven_viz\\.venv\\lib\\site-packages\\sklearn\\utils\\_set_output.py\u001b[0m in \u001b[0;36m?\u001b[1;34m(self, X, *args, **kwargs)\u001b[0m\n\u001b[0;32m    317\u001b[0m     \u001b[1;33m@\u001b[0m\u001b[0mwraps\u001b[0m\u001b[1;33m(\u001b[0m\u001b[0mf\u001b[0m\u001b[1;33m)\u001b[0m\u001b[1;33m\u001b[0m\u001b[1;33m\u001b[0m\u001b[0m\n\u001b[0;32m    318\u001b[0m     \u001b[1;32mdef\u001b[0m \u001b[0mwrapped\u001b[0m\u001b[1;33m(\u001b[0m\u001b[0mself\u001b[0m\u001b[1;33m,\u001b[0m \u001b[0mX\u001b[0m\u001b[1;33m,\u001b[0m \u001b[1;33m*\u001b[0m\u001b[0margs\u001b[0m\u001b[1;33m,\u001b[0m \u001b[1;33m**\u001b[0m\u001b[0mkwargs\u001b[0m\u001b[1;33m)\u001b[0m\u001b[1;33m:\u001b[0m\u001b[1;33m\u001b[0m\u001b[1;33m\u001b[0m\u001b[0m\n\u001b[1;32m--> 319\u001b[1;33m         \u001b[0mdata_to_wrap\u001b[0m \u001b[1;33m=\u001b[0m \u001b[0mf\u001b[0m\u001b[1;33m(\u001b[0m\u001b[0mself\u001b[0m\u001b[1;33m,\u001b[0m \u001b[0mX\u001b[0m\u001b[1;33m,\u001b[0m \u001b[1;33m*\u001b[0m\u001b[0margs\u001b[0m\u001b[1;33m,\u001b[0m \u001b[1;33m**\u001b[0m\u001b[0mkwargs\u001b[0m\u001b[1;33m)\u001b[0m\u001b[1;33m\u001b[0m\u001b[1;33m\u001b[0m\u001b[0m\n\u001b[0m\u001b[0;32m    320\u001b[0m         \u001b[1;32mif\u001b[0m \u001b[0misinstance\u001b[0m\u001b[1;33m(\u001b[0m\u001b[0mdata_to_wrap\u001b[0m\u001b[1;33m,\u001b[0m \u001b[0mtuple\u001b[0m\u001b[1;33m)\u001b[0m\u001b[1;33m:\u001b[0m\u001b[1;33m\u001b[0m\u001b[1;33m\u001b[0m\u001b[0m\n\u001b[0;32m    321\u001b[0m             \u001b[1;31m# only wrap the first output for cross decomposition\u001b[0m\u001b[1;33m\u001b[0m\u001b[1;33m\u001b[0m\u001b[0m\n\u001b[0;32m    322\u001b[0m             return_tuple = (\n",
                        "\u001b[1;32mc:\\Users\\RémiJAYLET\\Documents\\eleven_viz\\.venv\\lib\\site-packages\\sklearn\\base.py\u001b[0m in \u001b[0;36m?\u001b[1;34m(self, X, y, **fit_params)\u001b[0m\n\u001b[0;32m    914\u001b[0m                 )\n\u001b[0;32m    915\u001b[0m \u001b[1;33m\u001b[0m\u001b[0m\n\u001b[0;32m    916\u001b[0m         \u001b[1;32mif\u001b[0m \u001b[0my\u001b[0m \u001b[1;32mis\u001b[0m \u001b[1;32mNone\u001b[0m\u001b[1;33m:\u001b[0m\u001b[1;33m\u001b[0m\u001b[1;33m\u001b[0m\u001b[0m\n\u001b[0;32m    917\u001b[0m             \u001b[1;31m# fit method of arity 1 (unsupervised transformation)\u001b[0m\u001b[1;33m\u001b[0m\u001b[1;33m\u001b[0m\u001b[0m\n\u001b[1;32m--> 918\u001b[1;33m             \u001b[1;32mreturn\u001b[0m \u001b[0mself\u001b[0m\u001b[1;33m.\u001b[0m\u001b[0mfit\u001b[0m\u001b[1;33m(\u001b[0m\u001b[0mX\u001b[0m\u001b[1;33m,\u001b[0m \u001b[1;33m**\u001b[0m\u001b[0mfit_params\u001b[0m\u001b[1;33m)\u001b[0m\u001b[1;33m.\u001b[0m\u001b[0mtransform\u001b[0m\u001b[1;33m(\u001b[0m\u001b[0mX\u001b[0m\u001b[1;33m)\u001b[0m\u001b[1;33m\u001b[0m\u001b[1;33m\u001b[0m\u001b[0m\n\u001b[0m\u001b[0;32m    919\u001b[0m         \u001b[1;32melse\u001b[0m\u001b[1;33m:\u001b[0m\u001b[1;33m\u001b[0m\u001b[1;33m\u001b[0m\u001b[0m\n\u001b[0;32m    920\u001b[0m             \u001b[1;31m# fit method of arity 2 (supervised transformation)\u001b[0m\u001b[1;33m\u001b[0m\u001b[1;33m\u001b[0m\u001b[0m\n\u001b[0;32m    921\u001b[0m             \u001b[1;32mreturn\u001b[0m \u001b[0mself\u001b[0m\u001b[1;33m.\u001b[0m\u001b[0mfit\u001b[0m\u001b[1;33m(\u001b[0m\u001b[0mX\u001b[0m\u001b[1;33m,\u001b[0m \u001b[0my\u001b[0m\u001b[1;33m,\u001b[0m \u001b[1;33m**\u001b[0m\u001b[0mfit_params\u001b[0m\u001b[1;33m)\u001b[0m\u001b[1;33m.\u001b[0m\u001b[0mtransform\u001b[0m\u001b[1;33m(\u001b[0m\u001b[0mX\u001b[0m\u001b[1;33m)\u001b[0m\u001b[1;33m\u001b[0m\u001b[1;33m\u001b[0m\u001b[0m\n",
                        "\u001b[1;32mc:\\Users\\RémiJAYLET\\Documents\\eleven_viz\\.venv\\lib\\site-packages\\sklearn\\preprocessing\\_data.py\u001b[0m in \u001b[0;36m?\u001b[1;34m(self, X, y, sample_weight)\u001b[0m\n\u001b[0;32m    890\u001b[0m             \u001b[0mFitted\u001b[0m \u001b[0mscaler\u001b[0m\u001b[1;33m.\u001b[0m\u001b[1;33m\u001b[0m\u001b[1;33m\u001b[0m\u001b[0m\n\u001b[0;32m    891\u001b[0m         \"\"\"\n\u001b[0;32m    892\u001b[0m         \u001b[1;31m# Reset internal state before fitting\u001b[0m\u001b[1;33m\u001b[0m\u001b[1;33m\u001b[0m\u001b[0m\n\u001b[0;32m    893\u001b[0m         \u001b[0mself\u001b[0m\u001b[1;33m.\u001b[0m\u001b[0m_reset\u001b[0m\u001b[1;33m(\u001b[0m\u001b[1;33m)\u001b[0m\u001b[1;33m\u001b[0m\u001b[1;33m\u001b[0m\u001b[0m\n\u001b[1;32m--> 894\u001b[1;33m         \u001b[1;32mreturn\u001b[0m \u001b[0mself\u001b[0m\u001b[1;33m.\u001b[0m\u001b[0mpartial_fit\u001b[0m\u001b[1;33m(\u001b[0m\u001b[0mX\u001b[0m\u001b[1;33m,\u001b[0m \u001b[0my\u001b[0m\u001b[1;33m,\u001b[0m \u001b[0msample_weight\u001b[0m\u001b[1;33m)\u001b[0m\u001b[1;33m\u001b[0m\u001b[1;33m\u001b[0m\u001b[0m\n\u001b[0m",
                        "\u001b[1;32mc:\\Users\\RémiJAYLET\\Documents\\eleven_viz\\.venv\\lib\\site-packages\\sklearn\\base.py\u001b[0m in \u001b[0;36m?\u001b[1;34m(estimator, *args, **kwargs)\u001b[0m\n\u001b[0;32m   1385\u001b[0m                 skip_parameter_validation=(\n\u001b[0;32m   1386\u001b[0m                     \u001b[0mprefer_skip_nested_validation\u001b[0m \u001b[1;32mor\u001b[0m \u001b[0mglobal_skip_validation\u001b[0m\u001b[1;33m\u001b[0m\u001b[1;33m\u001b[0m\u001b[0m\n\u001b[0;32m   1387\u001b[0m                 )\n\u001b[0;32m   1388\u001b[0m             ):\n\u001b[1;32m-> 1389\u001b[1;33m                 \u001b[1;32mreturn\u001b[0m \u001b[0mfit_method\u001b[0m\u001b[1;33m(\u001b[0m\u001b[0mestimator\u001b[0m\u001b[1;33m,\u001b[0m \u001b[1;33m*\u001b[0m\u001b[0margs\u001b[0m\u001b[1;33m,\u001b[0m \u001b[1;33m**\u001b[0m\u001b[0mkwargs\u001b[0m\u001b[1;33m)\u001b[0m\u001b[1;33m\u001b[0m\u001b[1;33m\u001b[0m\u001b[0m\n\u001b[0m",
                        "\u001b[1;32mc:\\Users\\RémiJAYLET\\Documents\\eleven_viz\\.venv\\lib\\site-packages\\sklearn\\preprocessing\\_data.py\u001b[0m in \u001b[0;36m?\u001b[1;34m(self, X, y, sample_weight)\u001b[0m\n\u001b[0;32m    926\u001b[0m         \u001b[0mself\u001b[0m \u001b[1;33m:\u001b[0m \u001b[0mobject\u001b[0m\u001b[1;33m\u001b[0m\u001b[1;33m\u001b[0m\u001b[0m\n\u001b[0;32m    927\u001b[0m             \u001b[0mFitted\u001b[0m \u001b[0mscaler\u001b[0m\u001b[1;33m.\u001b[0m\u001b[1;33m\u001b[0m\u001b[1;33m\u001b[0m\u001b[0m\n\u001b[0;32m    928\u001b[0m         \"\"\"\n\u001b[0;32m    929\u001b[0m         \u001b[0mfirst_call\u001b[0m \u001b[1;33m=\u001b[0m \u001b[1;32mnot\u001b[0m \u001b[0mhasattr\u001b[0m\u001b[1;33m(\u001b[0m\u001b[0mself\u001b[0m\u001b[1;33m,\u001b[0m \u001b[1;34m\"n_samples_seen_\"\u001b[0m\u001b[1;33m)\u001b[0m\u001b[1;33m\u001b[0m\u001b[1;33m\u001b[0m\u001b[0m\n\u001b[1;32m--> 930\u001b[1;33m         X = validate_data(\n\u001b[0m\u001b[0;32m    931\u001b[0m             \u001b[0mself\u001b[0m\u001b[1;33m,\u001b[0m\u001b[1;33m\u001b[0m\u001b[1;33m\u001b[0m\u001b[0m\n\u001b[0;32m    932\u001b[0m             \u001b[0mX\u001b[0m\u001b[1;33m,\u001b[0m\u001b[1;33m\u001b[0m\u001b[1;33m\u001b[0m\u001b[0m\n\u001b[0;32m    933\u001b[0m             \u001b[0maccept_sparse\u001b[0m\u001b[1;33m=\u001b[0m\u001b[1;33m(\u001b[0m\u001b[1;34m\"csr\"\u001b[0m\u001b[1;33m,\u001b[0m \u001b[1;34m\"csc\"\u001b[0m\u001b[1;33m)\u001b[0m\u001b[1;33m,\u001b[0m\u001b[1;33m\u001b[0m\u001b[1;33m\u001b[0m\u001b[0m\n",
                        "\u001b[1;32mc:\\Users\\RémiJAYLET\\Documents\\eleven_viz\\.venv\\lib\\site-packages\\sklearn\\utils\\validation.py\u001b[0m in \u001b[0;36m?\u001b[1;34m(_estimator, X, y, reset, validate_separately, skip_check_array, **check_params)\u001b[0m\n\u001b[0;32m   2940\u001b[0m             \u001b[0mout\u001b[0m \u001b[1;33m=\u001b[0m \u001b[0my\u001b[0m\u001b[1;33m\u001b[0m\u001b[1;33m\u001b[0m\u001b[0m\n\u001b[0;32m   2941\u001b[0m         \u001b[1;32melse\u001b[0m\u001b[1;33m:\u001b[0m\u001b[1;33m\u001b[0m\u001b[1;33m\u001b[0m\u001b[0m\n\u001b[0;32m   2942\u001b[0m             \u001b[0mout\u001b[0m \u001b[1;33m=\u001b[0m \u001b[0mX\u001b[0m\u001b[1;33m,\u001b[0m \u001b[0my\u001b[0m\u001b[1;33m\u001b[0m\u001b[1;33m\u001b[0m\u001b[0m\n\u001b[0;32m   2943\u001b[0m     \u001b[1;32melif\u001b[0m \u001b[1;32mnot\u001b[0m \u001b[0mno_val_X\u001b[0m \u001b[1;32mand\u001b[0m \u001b[0mno_val_y\u001b[0m\u001b[1;33m:\u001b[0m\u001b[1;33m\u001b[0m\u001b[1;33m\u001b[0m\u001b[0m\n\u001b[1;32m-> 2944\u001b[1;33m         \u001b[0mout\u001b[0m \u001b[1;33m=\u001b[0m \u001b[0mcheck_array\u001b[0m\u001b[1;33m(\u001b[0m\u001b[0mX\u001b[0m\u001b[1;33m,\u001b[0m \u001b[0minput_name\u001b[0m\u001b[1;33m=\u001b[0m\u001b[1;34m\"X\"\u001b[0m\u001b[1;33m,\u001b[0m \u001b[1;33m**\u001b[0m\u001b[0mcheck_params\u001b[0m\u001b[1;33m)\u001b[0m\u001b[1;33m\u001b[0m\u001b[1;33m\u001b[0m\u001b[0m\n\u001b[0m\u001b[0;32m   2945\u001b[0m     \u001b[1;32melif\u001b[0m \u001b[0mno_val_X\u001b[0m \u001b[1;32mand\u001b[0m \u001b[1;32mnot\u001b[0m \u001b[0mno_val_y\u001b[0m\u001b[1;33m:\u001b[0m\u001b[1;33m\u001b[0m\u001b[1;33m\u001b[0m\u001b[0m\n\u001b[0;32m   2946\u001b[0m         \u001b[0mout\u001b[0m \u001b[1;33m=\u001b[0m \u001b[0m_check_y\u001b[0m\u001b[1;33m(\u001b[0m\u001b[0my\u001b[0m\u001b[1;33m,\u001b[0m \u001b[1;33m**\u001b[0m\u001b[0mcheck_params\u001b[0m\u001b[1;33m)\u001b[0m\u001b[1;33m\u001b[0m\u001b[1;33m\u001b[0m\u001b[0m\n\u001b[0;32m   2947\u001b[0m     \u001b[1;32melse\u001b[0m\u001b[1;33m:\u001b[0m\u001b[1;33m\u001b[0m\u001b[1;33m\u001b[0m\u001b[0m\n",
                        "\u001b[1;32mc:\\Users\\RémiJAYLET\\Documents\\eleven_viz\\.venv\\lib\\site-packages\\sklearn\\utils\\validation.py\u001b[0m in \u001b[0;36m?\u001b[1;34m(array, accept_sparse, accept_large_sparse, dtype, order, copy, force_writeable, force_all_finite, ensure_all_finite, ensure_non_negative, ensure_2d, allow_nd, ensure_min_samples, ensure_min_features, estimator, input_name)\u001b[0m\n\u001b[0;32m   1052\u001b[0m                         )\n\u001b[0;32m   1053\u001b[0m                     \u001b[0marray\u001b[0m \u001b[1;33m=\u001b[0m \u001b[0mxp\u001b[0m\u001b[1;33m.\u001b[0m\u001b[0mastype\u001b[0m\u001b[1;33m(\u001b[0m\u001b[0marray\u001b[0m\u001b[1;33m,\u001b[0m \u001b[0mdtype\u001b[0m\u001b[1;33m,\u001b[0m \u001b[0mcopy\u001b[0m\u001b[1;33m=\u001b[0m\u001b[1;32mFalse\u001b[0m\u001b[1;33m)\u001b[0m\u001b[1;33m\u001b[0m\u001b[1;33m\u001b[0m\u001b[0m\n\u001b[0;32m   1054\u001b[0m                 \u001b[1;32melse\u001b[0m\u001b[1;33m:\u001b[0m\u001b[1;33m\u001b[0m\u001b[1;33m\u001b[0m\u001b[0m\n\u001b[0;32m   1055\u001b[0m                     \u001b[0marray\u001b[0m \u001b[1;33m=\u001b[0m \u001b[0m_asarray_with_order\u001b[0m\u001b[1;33m(\u001b[0m\u001b[0marray\u001b[0m\u001b[1;33m,\u001b[0m \u001b[0morder\u001b[0m\u001b[1;33m=\u001b[0m\u001b[0morder\u001b[0m\u001b[1;33m,\u001b[0m \u001b[0mdtype\u001b[0m\u001b[1;33m=\u001b[0m\u001b[0mdtype\u001b[0m\u001b[1;33m,\u001b[0m \u001b[0mxp\u001b[0m\u001b[1;33m=\u001b[0m\u001b[0mxp\u001b[0m\u001b[1;33m)\u001b[0m\u001b[1;33m\u001b[0m\u001b[1;33m\u001b[0m\u001b[0m\n\u001b[1;32m-> 1056\u001b[1;33m             \u001b[1;32mexcept\u001b[0m \u001b[0mComplexWarning\u001b[0m \u001b[1;32mas\u001b[0m \u001b[0mcomplex_warning\u001b[0m\u001b[1;33m:\u001b[0m\u001b[1;33m\u001b[0m\u001b[1;33m\u001b[0m\u001b[0m\n\u001b[0m\u001b[0;32m   1057\u001b[0m                 raise ValueError(\n\u001b[0;32m   1058\u001b[0m                     \u001b[1;34m\"Complex data not supported\\n{}\\n\"\u001b[0m\u001b[1;33m.\u001b[0m\u001b[0mformat\u001b[0m\u001b[1;33m(\u001b[0m\u001b[0marray\u001b[0m\u001b[1;33m)\u001b[0m\u001b[1;33m\u001b[0m\u001b[1;33m\u001b[0m\u001b[0m\n\u001b[0;32m   1059\u001b[0m                 ) from complex_warning\n",
                        "\u001b[1;32mc:\\Users\\RémiJAYLET\\Documents\\eleven_viz\\.venv\\lib\\site-packages\\sklearn\\utils\\_array_api.py\u001b[0m in \u001b[0;36m?\u001b[1;34m(array, dtype, order, copy, xp, device)\u001b[0m\n\u001b[0;32m    835\u001b[0m         \u001b[1;31m# Use NumPy API to support order\u001b[0m\u001b[1;33m\u001b[0m\u001b[1;33m\u001b[0m\u001b[0m\n\u001b[0;32m    836\u001b[0m         \u001b[1;32mif\u001b[0m \u001b[0mcopy\u001b[0m \u001b[1;32mis\u001b[0m \u001b[1;32mTrue\u001b[0m\u001b[1;33m:\u001b[0m\u001b[1;33m\u001b[0m\u001b[1;33m\u001b[0m\u001b[0m\n\u001b[0;32m    837\u001b[0m             \u001b[0marray\u001b[0m \u001b[1;33m=\u001b[0m \u001b[0mnumpy\u001b[0m\u001b[1;33m.\u001b[0m\u001b[0marray\u001b[0m\u001b[1;33m(\u001b[0m\u001b[0marray\u001b[0m\u001b[1;33m,\u001b[0m \u001b[0morder\u001b[0m\u001b[1;33m=\u001b[0m\u001b[0morder\u001b[0m\u001b[1;33m,\u001b[0m \u001b[0mdtype\u001b[0m\u001b[1;33m=\u001b[0m\u001b[0mdtype\u001b[0m\u001b[1;33m)\u001b[0m\u001b[1;33m\u001b[0m\u001b[1;33m\u001b[0m\u001b[0m\n\u001b[0;32m    838\u001b[0m         \u001b[1;32melse\u001b[0m\u001b[1;33m:\u001b[0m\u001b[1;33m\u001b[0m\u001b[1;33m\u001b[0m\u001b[0m\n\u001b[1;32m--> 839\u001b[1;33m             \u001b[0marray\u001b[0m \u001b[1;33m=\u001b[0m \u001b[0mnumpy\u001b[0m\u001b[1;33m.\u001b[0m\u001b[0masarray\u001b[0m\u001b[1;33m(\u001b[0m\u001b[0marray\u001b[0m\u001b[1;33m,\u001b[0m \u001b[0morder\u001b[0m\u001b[1;33m=\u001b[0m\u001b[0morder\u001b[0m\u001b[1;33m,\u001b[0m \u001b[0mdtype\u001b[0m\u001b[1;33m=\u001b[0m\u001b[0mdtype\u001b[0m\u001b[1;33m)\u001b[0m\u001b[1;33m\u001b[0m\u001b[1;33m\u001b[0m\u001b[0m\n\u001b[0m\u001b[0;32m    840\u001b[0m \u001b[1;33m\u001b[0m\u001b[0m\n\u001b[0;32m    841\u001b[0m         \u001b[1;31m# At this point array is a NumPy ndarray. We convert it to an array\u001b[0m\u001b[1;33m\u001b[0m\u001b[1;33m\u001b[0m\u001b[0m\n\u001b[0;32m    842\u001b[0m         \u001b[1;31m# container that is consistent with the input's namespace.\u001b[0m\u001b[1;33m\u001b[0m\u001b[1;33m\u001b[0m\u001b[0m\n",
                        "\u001b[1;32mc:\\Users\\RémiJAYLET\\Documents\\eleven_viz\\.venv\\lib\\site-packages\\pandas\\core\\generic.py\u001b[0m in \u001b[0;36m?\u001b[1;34m(self, dtype, copy)\u001b[0m\n\u001b[0;32m   2149\u001b[0m     def __array__(\n\u001b[0;32m   2150\u001b[0m         \u001b[0mself\u001b[0m\u001b[1;33m,\u001b[0m \u001b[0mdtype\u001b[0m\u001b[1;33m:\u001b[0m \u001b[0mnpt\u001b[0m\u001b[1;33m.\u001b[0m\u001b[0mDTypeLike\u001b[0m \u001b[1;33m|\u001b[0m \u001b[1;32mNone\u001b[0m \u001b[1;33m=\u001b[0m \u001b[1;32mNone\u001b[0m\u001b[1;33m,\u001b[0m \u001b[0mcopy\u001b[0m\u001b[1;33m:\u001b[0m \u001b[0mbool_t\u001b[0m \u001b[1;33m|\u001b[0m \u001b[1;32mNone\u001b[0m \u001b[1;33m=\u001b[0m \u001b[1;32mNone\u001b[0m\u001b[1;33m\u001b[0m\u001b[1;33m\u001b[0m\u001b[0m\n\u001b[0;32m   2151\u001b[0m     ) -> np.ndarray:\n\u001b[0;32m   2152\u001b[0m         \u001b[0mvalues\u001b[0m \u001b[1;33m=\u001b[0m \u001b[0mself\u001b[0m\u001b[1;33m.\u001b[0m\u001b[0m_values\u001b[0m\u001b[1;33m\u001b[0m\u001b[1;33m\u001b[0m\u001b[0m\n\u001b[1;32m-> 2153\u001b[1;33m         \u001b[0marr\u001b[0m \u001b[1;33m=\u001b[0m \u001b[0mnp\u001b[0m\u001b[1;33m.\u001b[0m\u001b[0masarray\u001b[0m\u001b[1;33m(\u001b[0m\u001b[0mvalues\u001b[0m\u001b[1;33m,\u001b[0m \u001b[0mdtype\u001b[0m\u001b[1;33m=\u001b[0m\u001b[0mdtype\u001b[0m\u001b[1;33m)\u001b[0m\u001b[1;33m\u001b[0m\u001b[1;33m\u001b[0m\u001b[0m\n\u001b[0m\u001b[0;32m   2154\u001b[0m         if (\n\u001b[0;32m   2155\u001b[0m             \u001b[0mastype_is_view\u001b[0m\u001b[1;33m(\u001b[0m\u001b[0mvalues\u001b[0m\u001b[1;33m.\u001b[0m\u001b[0mdtype\u001b[0m\u001b[1;33m,\u001b[0m \u001b[0marr\u001b[0m\u001b[1;33m.\u001b[0m\u001b[0mdtype\u001b[0m\u001b[1;33m)\u001b[0m\u001b[1;33m\u001b[0m\u001b[1;33m\u001b[0m\u001b[0m\n\u001b[0;32m   2156\u001b[0m             \u001b[1;32mand\u001b[0m \u001b[0musing_copy_on_write\u001b[0m\u001b[1;33m(\u001b[0m\u001b[1;33m)\u001b[0m\u001b[1;33m\u001b[0m\u001b[1;33m\u001b[0m\u001b[0m\n",
                        "\u001b[1;31mValueError\u001b[0m: could not convert string to float: '00:03:40'"
                    ]
                }
            ],
            "source": [
                "df_training_with_clusters, df_matches_with_clusters = cluster_performance(df_trainings, df_matches, [\n",
                "    'distance', 'distance_over_21', 'distance_over_24', 'distance_over_27',\n",
                "    'accel_decel_over_2_5', 'accel_decel_over_3_5', 'accel_decel_over_4_5',\n",
                "    'peak_speed', 'hr_zone_1_hms', 'hr_zone_2_hms', 'hr_zone_3_hms', 'hr_zone_4_hms', 'hr_zone_5_hms'\n",
                "])\n"
            ]
        },
        {
            "cell_type": "code",
            "execution_count": 33,
            "metadata": {},
            "outputs": [
                {
                    "ename": "NameError",
                    "evalue": "name 'df_training_with_clusters' is not defined",
                    "output_type": "error",
                    "traceback": [
                        "\u001b[1;31m---------------------------------------------------------------------------\u001b[0m",
                        "\u001b[1;31mNameError\u001b[0m                                 Traceback (most recent call last)",
                        "Cell \u001b[1;32mIn[33], line 1\u001b[0m\n\u001b[1;32m----> 1\u001b[0m plot_cluster(\u001b[43mdf_training_with_clusters\u001b[49m, \u001b[38;5;124m'\u001b[39m\u001b[38;5;124mdistance\u001b[39m\u001b[38;5;124m'\u001b[39m, \u001b[38;5;124m'\u001b[39m\u001b[38;5;124mpeak_speed\u001b[39m\u001b[38;5;124m'\u001b[39m)\n",
                        "\u001b[1;31mNameError\u001b[0m: name 'df_training_with_clusters' is not defined"
                    ]
                }
            ],
            "source": [
                "plot_cluster(df_training_with_clusters, 'distance', 'peak_speed')"
            ]
        },
        {
            "cell_type": "code",
            "execution_count": 34,
            "metadata": {},
            "outputs": [
                {
                    "ename": "NameError",
                    "evalue": "name 'df_matches_with_clusters' is not defined",
                    "output_type": "error",
                    "traceback": [
                        "\u001b[1;31m---------------------------------------------------------------------------\u001b[0m",
                        "\u001b[1;31mNameError\u001b[0m                                 Traceback (most recent call last)",
                        "Cell \u001b[1;32mIn[34], line 4\u001b[0m\n\u001b[0;32m      1\u001b[0m \u001b[38;5;28;01mimport\u001b[39;00m\u001b[38;5;250m \u001b[39m\u001b[38;5;21;01mpandas\u001b[39;00m\u001b[38;5;250m \u001b[39m\u001b[38;5;28;01mas\u001b[39;00m\u001b[38;5;250m \u001b[39m\u001b[38;5;21;01mpd\u001b[39;00m\n\u001b[0;32m      3\u001b[0m \u001b[38;5;66;03m# Assurez-vous que les colonnes 'date' sont de type datetime\u001b[39;00m\n\u001b[1;32m----> 4\u001b[0m df_matches_with_clusters[\u001b[38;5;124m'\u001b[39m\u001b[38;5;124mdate\u001b[39m\u001b[38;5;124m'\u001b[39m] \u001b[38;5;241m=\u001b[39m pd\u001b[38;5;241m.\u001b[39mto_datetime(\u001b[43mdf_matches_with_clusters\u001b[49m[\u001b[38;5;124m'\u001b[39m\u001b[38;5;124mdate\u001b[39m\u001b[38;5;124m'\u001b[39m], errors\u001b[38;5;241m=\u001b[39m\u001b[38;5;124m'\u001b[39m\u001b[38;5;124mcoerce\u001b[39m\u001b[38;5;124m'\u001b[39m)\n\u001b[0;32m      5\u001b[0m df_training_with_clusters[\u001b[38;5;124m'\u001b[39m\u001b[38;5;124mdate\u001b[39m\u001b[38;5;124m'\u001b[39m] \u001b[38;5;241m=\u001b[39m pd\u001b[38;5;241m.\u001b[39mto_datetime(df_training_with_clusters[\u001b[38;5;124m'\u001b[39m\u001b[38;5;124mdate\u001b[39m\u001b[38;5;124m'\u001b[39m], errors\u001b[38;5;241m=\u001b[39m\u001b[38;5;124m'\u001b[39m\u001b[38;5;124mcoerce\u001b[39m\u001b[38;5;124m'\u001b[39m)\n\u001b[0;32m      7\u001b[0m \u001b[38;5;66;03m# Marquer le type d'événement\u001b[39;00m\n",
                        "\u001b[1;31mNameError\u001b[0m: name 'df_matches_with_clusters' is not defined"
                    ]
                }
            ],
            "source": [
                "import pandas as pd\n",
                "\n",
                "# Assurez-vous que les colonnes 'date' sont de type datetime\n",
                "df_matches_with_clusters['date'] = pd.to_datetime(df_matches_with_clusters['date'], errors='coerce')\n",
                "df_training_with_clusters['date'] = pd.to_datetime(df_training_with_clusters['date'], errors='coerce')\n",
                "\n",
                "# Marquer le type d'événement\n",
                "df_matches_with_clusters['type'] = 'Match'\n",
                "df_training_with_clusters['type'] = 'Training'\n",
                "\n",
                "# Fusionner les DataFrames en sélectionnant uniquement les colonnes nécessaires\n",
                "df_combined = pd.concat([\n",
                "    df_matches_with_clusters[['date', 'season', 'cluster_label', 'type']],\n",
                "    df_training_with_clusters[['date', 'season', 'cluster_label', 'type']]\n",
                "])\n",
                "\n",
                "# Trier le DataFrame combiné par date\n",
                "df_combined = df_combined.sort_values(by='date')\n"
            ]
        },
        {
            "cell_type": "code",
            "execution_count": 35,
            "metadata": {},
            "outputs": [
                {
                    "ename": "NameError",
                    "evalue": "name 'df_combined' is not defined",
                    "output_type": "error",
                    "traceback": [
                        "\u001b[1;31m---------------------------------------------------------------------------\u001b[0m",
                        "\u001b[1;31mNameError\u001b[0m                                 Traceback (most recent call last)",
                        "Cell \u001b[1;32mIn[35], line 1\u001b[0m\n\u001b[1;32m----> 1\u001b[0m plot_player_state(\u001b[43mdf_combined\u001b[49m, season\u001b[38;5;241m=\u001b[39m\u001b[38;5;124m\"\u001b[39m\u001b[38;5;124m2022/2023\u001b[39m\u001b[38;5;124m\"\u001b[39m)\n\u001b[0;32m      2\u001b[0m plot_player_state(df_combined, start_date \u001b[38;5;241m=\u001b[39m \u001b[38;5;124m\"\u001b[39m\u001b[38;5;124m01/01/2023\u001b[39m\u001b[38;5;124m\"\u001b[39m, end_date \u001b[38;5;241m=\u001b[39m\u001b[38;5;124m\"\u001b[39m\u001b[38;5;124m15/01/2023\u001b[39m\u001b[38;5;124m\"\u001b[39m)\n",
                        "\u001b[1;31mNameError\u001b[0m: name 'df_combined' is not defined"
                    ]
                }
            ],
            "source": [
                "plot_player_state(df_combined, season=\"2022/2023\")\n",
                "plot_player_state(df_combined, start_date = \"01/01/2023\", end_date =\"15/01/2023\")\n"
            ]
        },
        {
            "cell_type": "code",
            "execution_count": 39,
            "metadata": {},
            "outputs": [
                {
                    "ename": "ValueError",
                    "evalue": "Mime type rendering requires nbformat>=4.2.0 but it is not installed",
                    "output_type": "error",
                    "traceback": [
                        "\u001b[1;31m---------------------------------------------------------------------------\u001b[0m",
                        "\u001b[1;31mValueError\u001b[0m                                Traceback (most recent call last)",
                        "Cell \u001b[1;32mIn[39], line 2\u001b[0m\n\u001b[0;32m      1\u001b[0m \u001b[38;5;66;03m# Exemple d'utilisation\u001b[39;00m\n\u001b[1;32m----> 2\u001b[0m \u001b[43mplot_radar_chart\u001b[49m\u001b[43m(\u001b[49m\u001b[43mdf_filtered\u001b[49m\u001b[38;5;241;43m.\u001b[39;49m\u001b[43mcopy\u001b[49m\u001b[43m(\u001b[49m\u001b[43m)\u001b[49m\u001b[43m,\u001b[49m\u001b[43m \u001b[49m\u001b[38;5;124;43m\"\u001b[39;49m\u001b[38;5;124;43m21/08/2022\u001b[39;49m\u001b[38;5;124;43m\"\u001b[39;49m\u001b[43m)\u001b[49m\n",
                        "File \u001b[1;32mc:\\Users\\RémiJAYLET\\Documents\\eleven_viz\\sandbox\\functions\\gps\\plot_radar_chart.py:76\u001b[0m, in \u001b[0;36mplot_radar_chart\u001b[1;34m(df, date_str)\u001b[0m\n\u001b[0;32m     56\u001b[0m fig\u001b[38;5;241m.\u001b[39madd_trace(go\u001b[38;5;241m.\u001b[39mScatterpolar(\n\u001b[0;32m     57\u001b[0m     r\u001b[38;5;241m=\u001b[39mscaled_values, \n\u001b[0;32m     58\u001b[0m     theta\u001b[38;5;241m=\u001b[39mmetrics,\n\u001b[1;32m   (...)\u001b[0m\n\u001b[0;32m     64\u001b[0m     textfont\u001b[38;5;241m=\u001b[39m\u001b[38;5;28mdict\u001b[39m(size\u001b[38;5;241m=\u001b[39m\u001b[38;5;241m10\u001b[39m) \n\u001b[0;32m     65\u001b[0m ))\n\u001b[0;32m     67\u001b[0m fig\u001b[38;5;241m.\u001b[39mupdate_layout(\n\u001b[0;32m     68\u001b[0m     polar\u001b[38;5;241m=\u001b[39m\u001b[38;5;28mdict\u001b[39m(\n\u001b[0;32m     69\u001b[0m         radialaxis\u001b[38;5;241m=\u001b[39m\u001b[38;5;28mdict\u001b[39m(visible\u001b[38;5;241m=\u001b[39m\u001b[38;5;28;01mTrue\u001b[39;00m, showticklabels\u001b[38;5;241m=\u001b[39m\u001b[38;5;28;01mFalse\u001b[39;00m),  \n\u001b[1;32m   (...)\u001b[0m\n\u001b[0;32m     73\u001b[0m     showlegend\u001b[38;5;241m=\u001b[39m\u001b[38;5;28;01mFalse\u001b[39;00m  \n\u001b[0;32m     74\u001b[0m )\n\u001b[1;32m---> 76\u001b[0m \u001b[43mfig\u001b[49m\u001b[38;5;241;43m.\u001b[39;49m\u001b[43mshow\u001b[49m\u001b[43m(\u001b[49m\u001b[43m)\u001b[49m\n",
                        "File \u001b[1;32mc:\\Users\\RémiJAYLET\\Documents\\eleven_viz\\.venv\\lib\\site-packages\\plotly\\basedatatypes.py:3390\u001b[0m, in \u001b[0;36mBaseFigure.show\u001b[1;34m(self, *args, **kwargs)\u001b[0m\n\u001b[0;32m   3357\u001b[0m \u001b[38;5;250m\u001b[39m\u001b[38;5;124;03m\"\"\"\u001b[39;00m\n\u001b[0;32m   3358\u001b[0m \u001b[38;5;124;03mShow a figure using either the default renderer(s) or the renderer(s)\u001b[39;00m\n\u001b[0;32m   3359\u001b[0m \u001b[38;5;124;03mspecified by the renderer argument\u001b[39;00m\n\u001b[1;32m   (...)\u001b[0m\n\u001b[0;32m   3386\u001b[0m \u001b[38;5;124;03mNone\u001b[39;00m\n\u001b[0;32m   3387\u001b[0m \u001b[38;5;124;03m\"\"\"\u001b[39;00m\n\u001b[0;32m   3388\u001b[0m \u001b[38;5;28;01mimport\u001b[39;00m\u001b[38;5;250m \u001b[39m\u001b[38;5;21;01mplotly\u001b[39;00m\u001b[38;5;21;01m.\u001b[39;00m\u001b[38;5;21;01mio\u001b[39;00m\u001b[38;5;250m \u001b[39m\u001b[38;5;28;01mas\u001b[39;00m\u001b[38;5;250m \u001b[39m\u001b[38;5;21;01mpio\u001b[39;00m\n\u001b[1;32m-> 3390\u001b[0m \u001b[38;5;28;01mreturn\u001b[39;00m pio\u001b[38;5;241m.\u001b[39mshow(\u001b[38;5;28mself\u001b[39m, \u001b[38;5;241m*\u001b[39margs, \u001b[38;5;241m*\u001b[39m\u001b[38;5;241m*\u001b[39mkwargs)\n",
                        "File \u001b[1;32mc:\\Users\\RémiJAYLET\\Documents\\eleven_viz\\.venv\\lib\\site-packages\\plotly\\io\\_renderers.py:396\u001b[0m, in \u001b[0;36mshow\u001b[1;34m(fig, renderer, validate, **kwargs)\u001b[0m\n\u001b[0;32m    391\u001b[0m         \u001b[38;5;28;01mraise\u001b[39;00m \u001b[38;5;167;01mValueError\u001b[39;00m(\n\u001b[0;32m    392\u001b[0m             \u001b[38;5;124m\"\u001b[39m\u001b[38;5;124mMime type rendering requires ipython but it is not installed\u001b[39m\u001b[38;5;124m\"\u001b[39m\n\u001b[0;32m    393\u001b[0m         )\n\u001b[0;32m    395\u001b[0m     \u001b[38;5;28;01mif\u001b[39;00m \u001b[38;5;129;01mnot\u001b[39;00m nbformat \u001b[38;5;129;01mor\u001b[39;00m Version(nbformat\u001b[38;5;241m.\u001b[39m__version__) \u001b[38;5;241m<\u001b[39m Version(\u001b[38;5;124m\"\u001b[39m\u001b[38;5;124m4.2.0\u001b[39m\u001b[38;5;124m\"\u001b[39m):\n\u001b[1;32m--> 396\u001b[0m         \u001b[38;5;28;01mraise\u001b[39;00m \u001b[38;5;167;01mValueError\u001b[39;00m(\n\u001b[0;32m    397\u001b[0m             \u001b[38;5;124m\"\u001b[39m\u001b[38;5;124mMime type rendering requires nbformat>=4.2.0 but it is not installed\u001b[39m\u001b[38;5;124m\"\u001b[39m\n\u001b[0;32m    398\u001b[0m         )\n\u001b[0;32m    400\u001b[0m     ipython_display\u001b[38;5;241m.\u001b[39mdisplay(bundle, raw\u001b[38;5;241m=\u001b[39m\u001b[38;5;28;01mTrue\u001b[39;00m)\n\u001b[0;32m    402\u001b[0m \u001b[38;5;66;03m# external renderers\u001b[39;00m\n",
                        "\u001b[1;31mValueError\u001b[0m: Mime type rendering requires nbformat>=4.2.0 but it is not installed"
                    ]
                }
            ],
            "source": [
                "# Exemple d'utilisation\n",
                "plot_radar_chart(df_filtered.copy(), \"21/08/2022\")"
            ]
        },
        {
            "cell_type": "code",
            "execution_count": 38,
            "metadata": {},
            "outputs": [
                {
                    "name": "stderr",
                    "output_type": "stream",
                    "text": [
                        "\n",
                        "[notice] A new release of pip is available: 23.0.1 -> 25.0.1\n",
                        "[notice] To update, run: python.exe -m pip install --upgrade pip\n"
                    ]
                }
            ],
            "source": [
                "!pip install nbformat>=4.2.0 "
            ]
        },
        {
            "cell_type": "code",
            "execution_count": null,
            "metadata": {},
            "outputs": [],
            "source": []
        }
    ],
    "metadata": {
        "kernelspec": {
            "display_name": ".venv",
            "language": "python",
            "name": "python3"
        },
        "language_info": {
            "codemirror_mode": {
                "name": "ipython",
                "version": 3
            },
            "file_extension": ".py",
            "mimetype": "text/x-python",
            "name": "python",
            "nbconvert_exporter": "python",
            "pygments_lexer": "ipython3",
            "version": "3.10.11"
        }
    },
    "nbformat": 4,
    "nbformat_minor": 2
}
