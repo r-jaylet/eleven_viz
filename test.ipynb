{
 "cells": [
  {
   "cell_type": "code",
   "execution_count": 3,
   "metadata": {},
   "outputs": [],
   "source": [
    "import pandas as pd\n",
    "import streamlit as st\n",
    "\n",
    "from src.data_preprocessing import load_gps\n",
    "from src.gps_viz import (\n",
    "    cluster_performance,\n",
    "    general_kpis,\n",
    "    plot_average_distances_histogram_plotly,\n",
    "    plot_cluster,\n",
    "    plot_distance_distribution_by_duration,\n",
    "    plot_player_state,\n",
    "    plot_radar_chart,\n",
    "    stats_vs_match_time,\n",
    ")"
   ]
  },
  {
   "cell_type": "code",
   "execution_count": 4,
   "metadata": {},
   "outputs": [
    {
     "name": "stderr",
     "output_type": "stream",
     "text": [
      "2025-03-30 18:29:06.896 WARNING streamlit.runtime.scriptrunner_utils.script_run_context: Thread 'MainThread': missing ScriptRunContext! This warning can be ignored when running in bare mode.\n",
      "2025-03-30 18:29:06.907 WARNING streamlit.runtime.scriptrunner_utils.script_run_context: Thread 'MainThread': missing ScriptRunContext! This warning can be ignored when running in bare mode.\n",
      "2025-03-30 18:29:06.907 WARNING streamlit.runtime.scriptrunner_utils.script_run_context: Thread 'MainThread': missing ScriptRunContext! This warning can be ignored when running in bare mode.\n",
      "2025-03-30 18:29:06.907 WARNING streamlit.runtime.scriptrunner_utils.script_run_context: Thread 'MainThread': missing ScriptRunContext! This warning can be ignored when running in bare mode.\n",
      "2025-03-30 18:29:06.907 WARNING streamlit.runtime.scriptrunner_utils.script_run_context: Thread 'MainThread': missing ScriptRunContext! This warning can be ignored when running in bare mode.\n"
     ]
    }
   ],
   "source": [
    "\n",
    "# Load and filter data\n",
    "df, df_active = load_gps(\n",
    "    \"data/players_data/marc_cucurella/CFC GPS Data.csv\"\n",
    ")\n",
    "df_filtered = df[df[\"distance\"] > 0]\n",
    "df_matches = df_filtered[df_filtered[\"opposition_code\"].notna()]\n",
    "df_trainings = df_filtered[df_filtered[\"opposition_code\"].isna()]\n",
    "\n",
    "overview_tab, match_tab, training_tab, cluster_tab = st.tabs(\n",
    "    [\"Overview\", \"Matches\", \"Training\", \"Performance Clusters\"]\n",
    ")"
   ]
  },
  {
   "cell_type": "code",
   "execution_count": null,
   "metadata": {},
   "outputs": [
    {
     "name": "stderr",
     "output_type": "stream",
     "text": [
      "2025-03-30 18:29:08.459 WARNING streamlit.runtime.scriptrunner_utils.script_run_context: Thread 'MainThread': missing ScriptRunContext! This warning can be ignored when running in bare mode.\n",
      "2025-03-30 18:29:08.946 \"server.font\" is not a valid config option. If you previously had this config option set, it may have been removed.\n",
      "2025-03-30 18:29:08.946 \n",
      "Warning: the config option 'server.enableCORS=false' is not compatible with 'server.enableXsrfProtection=true'.\n",
      "As a result, 'server.enableCORS' is being overridden to 'true'.\n",
      "\n",
      "More information:\n",
      "In order to protect against CSRF attacks, we send a cookie with each request.\n",
      "To do so, we must specify allowable origins, which places a restriction on\n",
      "cross-origin resource sharing.\n",
      "\n",
      "If cross origin resource sharing is required, please disable server.enableXsrfProtection.\n",
      "            \n",
      "2025-03-30 18:29:08.946 \n",
      "  \u001b[33m\u001b[1mWarning:\u001b[0m to view this Streamlit app on a browser, run it with the following\n",
      "  command:\n",
      "\n",
      "    streamlit run c:\\Users\\RémiJAYLET\\Documents\\eleven_viz\\.venv\\lib\\site-packages\\ipykernel_launcher.py [ARGUMENTS]\n",
      "2025-03-30 18:29:08.946 Thread 'MainThread': missing ScriptRunContext! This warning can be ignored when running in bare mode.\n",
      "c:\\Users\\RémiJAYLET\\Documents\\eleven_viz\\src\\gps_viz.py:177: FutureWarning: DataFrame.applymap has been deprecated. Use DataFrame.map instead.\n",
      "  df_filtered[time_columns].astype(str).applymap(hms_to_seconds)\n",
      "2025-03-30 18:29:08.962 Thread 'MainThread': missing ScriptRunContext! This warning can be ignored when running in bare mode.\n",
      "2025-03-30 18:29:08.962 Thread 'MainThread': missing ScriptRunContext! This warning can be ignored when running in bare mode.\n",
      "2025-03-30 18:29:08.962 Thread 'MainThread': missing ScriptRunContext! This warning can be ignored when running in bare mode.\n",
      "2025-03-30 18:29:08.962 Thread 'MainThread': missing ScriptRunContext! This warning can be ignored when running in bare mode.\n",
      "2025-03-30 18:29:08.962 Thread 'MainThread': missing ScriptRunContext! This warning can be ignored when running in bare mode.\n",
      "2025-03-30 18:29:08.962 Thread 'MainThread': missing ScriptRunContext! This warning can be ignored when running in bare mode.\n"
     ]
    },
    {
     "data": {
      "text/plain": [
       "DeltaGenerator()"
      ]
     },
     "execution_count": 5,
     "metadata": {},
     "output_type": "execute_result"
    }
   ],
   "source": [
    "\n",
    "match_kpis = general_kpis(df_matches)\n",
    "\n"
   ]
  },
  {
   "cell_type": "code",
   "execution_count": 6,
   "metadata": {},
   "outputs": [
    {
     "name": "stderr",
     "output_type": "stream",
     "text": [
      "c:\\Users\\RémiJAYLET\\Documents\\eleven_viz\\src\\gps_viz.py:177: FutureWarning: DataFrame.applymap has been deprecated. Use DataFrame.map instead.\n",
      "  df_filtered[time_columns].astype(str).applymap(hms_to_seconds)\n"
     ]
    }
   ],
   "source": [
    "\n",
    "training_kpis = general_kpis(df_trainings)\n"
   ]
  },
  {
   "cell_type": "code",
   "execution_count": 7,
   "metadata": {},
   "outputs": [
    {
     "name": "stderr",
     "output_type": "stream",
     "text": [
      "c:\\Users\\RémiJAYLET\\Documents\\eleven_viz\\.venv\\lib\\site-packages\\plotly\\express\\_core.py:1980: FutureWarning: When grouping with a length-1 list-like, you will need to pass a length-1 tuple to get_group in a future version of pandas. Pass `(name,)` instead of `name` to silence this warning.\n",
      "  sf: grouped.get_group(s if len(s) > 1 else s[0])\n",
      "2025-03-30 18:29:41.058 Thread 'MainThread': missing ScriptRunContext! This warning can be ignored when running in bare mode.\n",
      "2025-03-30 18:29:41.058 Thread 'MainThread': missing ScriptRunContext! This warning can be ignored when running in bare mode.\n",
      "2025-03-30 18:29:41.058 Thread 'MainThread': missing ScriptRunContext! This warning can be ignored when running in bare mode.\n",
      "2025-03-30 18:29:41.058 Thread 'MainThread': missing ScriptRunContext! This warning can be ignored when running in bare mode.\n",
      "2025-03-30 18:29:41.175 Thread 'MainThread': missing ScriptRunContext! This warning can be ignored when running in bare mode.\n",
      "2025-03-30 18:29:41.175 Thread 'MainThread': missing ScriptRunContext! This warning can be ignored when running in bare mode.\n",
      "2025-03-30 18:29:41.175 Thread 'MainThread': missing ScriptRunContext! This warning can be ignored when running in bare mode.\n",
      "2025-03-30 18:29:41.175 Thread 'MainThread': missing ScriptRunContext! This warning can be ignored when running in bare mode.\n"
     ]
    },
    {
     "data": {
      "text/plain": [
       "DeltaGenerator()"
      ]
     },
     "execution_count": 7,
     "metadata": {},
     "output_type": "execute_result"
    }
   ],
   "source": [
    "st.plotly_chart(\n",
    "    plot_distance_distribution_by_duration(df_filtered),\n",
    "    use_container_width=True,\n",
    ")\n",
    "\n",
    "st.plotly_chart(\n",
    "    plot_average_distances_histogram_plotly(df_filtered),\n",
    "    use_container_width=True,\n",
    ")"
   ]
  },
  {
   "cell_type": "code",
   "execution_count": 9,
   "metadata": {},
   "outputs": [
    {
     "name": "stderr",
     "output_type": "stream",
     "text": [
      "2025-03-30 18:29:51.853 Thread 'MainThread': missing ScriptRunContext! This warning can be ignored when running in bare mode.\n",
      "2025-03-30 18:29:51.853 Thread 'MainThread': missing ScriptRunContext! This warning can be ignored when running in bare mode.\n",
      "2025-03-30 18:29:51.853 Thread 'MainThread': missing ScriptRunContext! This warning can be ignored when running in bare mode.\n",
      "2025-03-30 18:29:51.853 Thread 'MainThread': missing ScriptRunContext! This warning can be ignored when running in bare mode.\n",
      "2025-03-30 18:29:51.853 Thread 'MainThread': missing ScriptRunContext! This warning can be ignored when running in bare mode.\n",
      "2025-03-30 18:29:51.853 Thread 'MainThread': missing ScriptRunContext! This warning can be ignored when running in bare mode.\n",
      "2025-03-30 18:29:51.865 Thread 'MainThread': missing ScriptRunContext! This warning can be ignored when running in bare mode.\n",
      "2025-03-30 18:29:51.865 Thread 'MainThread': missing ScriptRunContext! This warning can be ignored when running in bare mode.\n",
      "2025-03-30 18:29:51.865 Thread 'MainThread': missing ScriptRunContext! This warning can be ignored when running in bare mode.\n",
      "2025-03-30 18:29:51.865 Thread 'MainThread': missing ScriptRunContext! This warning can be ignored when running in bare mode.\n"
     ]
    }
   ],
   "source": [
    "fig_distance, fig_accel, fig_hr = stats_vs_match_time(df_matches)\n",
    "\n",
    "metric_option = st.selectbox(\n",
    "    \"Select metric to display\",\n",
    "    [\n",
    "        \"Distance Coverage\",\n",
    "        \"Acceleration/Deceleration\",\n",
    "        \"Heart Rate Zones\",\n",
    "    ],\n",
    ")\n",
    "\n",
    "if metric_option == \"Distance Coverage\":\n",
    "    st.plotly_chart(fig_distance, use_container_width=True)\n",
    "elif metric_option == \"Acceleration/Deceleration\":\n",
    "    st.plotly_chart(fig_accel, use_container_width=True)\n",
    "else:\n",
    "    st.plotly_chart(fig_hr, use_container_width=True)\n"
   ]
  },
  {
   "cell_type": "code",
   "execution_count": 11,
   "metadata": {},
   "outputs": [
    {
     "name": "stderr",
     "output_type": "stream",
     "text": [
      "2025-03-30 18:29:56.014 Thread 'MainThread': missing ScriptRunContext! This warning can be ignored when running in bare mode.\n",
      "2025-03-30 18:29:56.014 Thread 'MainThread': missing ScriptRunContext! This warning can be ignored when running in bare mode.\n",
      "2025-03-30 18:29:56.014 Thread 'MainThread': missing ScriptRunContext! This warning can be ignored when running in bare mode.\n",
      "2025-03-30 18:29:56.014 Thread 'MainThread': missing ScriptRunContext! This warning can be ignored when running in bare mode.\n",
      "2025-03-30 18:29:56.014 Thread 'MainThread': missing ScriptRunContext! This warning can be ignored when running in bare mode.\n",
      "2025-03-30 18:29:56.014 Thread 'MainThread': missing ScriptRunContext! This warning can be ignored when running in bare mode.\n",
      "c:\\Users\\RémiJAYLET\\Documents\\eleven_viz\\src\\gps_viz.py:499: SettingWithCopyWarning:\n",
      "\n",
      "\n",
      "A value is trying to be set on a copy of a slice from a DataFrame.\n",
      "Try using .loc[row_indexer,col_indexer] = value instead\n",
      "\n",
      "See the caveats in the documentation: https://pandas.pydata.org/pandas-docs/stable/user_guide/indexing.html#returning-a-view-versus-a-copy\n",
      "\n",
      "c:\\Users\\RémiJAYLET\\Documents\\eleven_viz\\src\\gps_viz.py:502: SettingWithCopyWarning:\n",
      "\n",
      "\n",
      "A value is trying to be set on a copy of a slice from a DataFrame.\n",
      "Try using .loc[row_indexer,col_indexer] = value instead\n",
      "\n",
      "See the caveats in the documentation: https://pandas.pydata.org/pandas-docs/stable/user_guide/indexing.html#returning-a-view-versus-a-copy\n",
      "\n",
      "2025-03-30 18:29:56.043 Thread 'MainThread': missing ScriptRunContext! This warning can be ignored when running in bare mode.\n",
      "2025-03-30 18:29:56.051 Thread 'MainThread': missing ScriptRunContext! This warning can be ignored when running in bare mode.\n",
      "2025-03-30 18:29:56.059 Thread 'MainThread': missing ScriptRunContext! This warning can be ignored when running in bare mode.\n",
      "2025-03-30 18:29:56.059 Thread 'MainThread': missing ScriptRunContext! This warning can be ignored when running in bare mode.\n"
     ]
    }
   ],
   "source": [
    "available_dates = (\n",
    "    df_matches[\"date\"].dt.strftime(\"%d/%m/%Y\").unique()\n",
    ")\n",
    "if len(available_dates) > 0:\n",
    "    selected_date = st.selectbox(\n",
    "        \"Select Match Date\", available_dates\n",
    "    )\n",
    "    radar_chart = plot_radar_chart(df_filtered, selected_date)\n",
    "    if radar_chart:\n",
    "        st.plotly_chart(radar_chart, use_container_width=True)\n",
    "    else:\n",
    "        st.warning(\"No data available for the selected date.\")\n",
    "else:\n",
    "    st.warning(\"No matches available in the selected date range.\")\n",
    "\n"
   ]
  },
  {
   "cell_type": "code",
   "execution_count": 12,
   "metadata": {},
   "outputs": [
    {
     "name": "stderr",
     "output_type": "stream",
     "text": [
      "c:\\Users\\RémiJAYLET\\Documents\\eleven_viz\\.venv\\lib\\site-packages\\plotly\\express\\_core.py:1980: FutureWarning:\n",
      "\n",
      "When grouping with a length-1 list-like, you will need to pass a length-1 tuple to get_group in a future version of pandas. Pass `(name,)` instead of `name` to silence this warning.\n",
      "\n",
      "2025-03-30 18:29:58.722 Thread 'MainThread': missing ScriptRunContext! This warning can be ignored when running in bare mode.\n",
      "2025-03-30 18:29:58.722 Thread 'MainThread': missing ScriptRunContext! This warning can be ignored when running in bare mode.\n",
      "2025-03-30 18:29:58.722 Thread 'MainThread': missing ScriptRunContext! This warning can be ignored when running in bare mode.\n",
      "2025-03-30 18:29:58.722 Thread 'MainThread': missing ScriptRunContext! This warning can be ignored when running in bare mode.\n"
     ]
    },
    {
     "data": {
      "text/plain": [
       "DeltaGenerator()"
      ]
     },
     "execution_count": 12,
     "metadata": {},
     "output_type": "execute_result"
    }
   ],
   "source": [
    "st.plotly_chart(\n",
    "    plot_distance_distribution_by_duration(df_trainings),\n",
    "    use_container_width=True,\n",
    ")\n"
   ]
  },
  {
   "cell_type": "code",
   "execution_count": 13,
   "metadata": {},
   "outputs": [],
   "source": [
    "\n",
    "\n",
    "cluster_features = [\n",
    "    \"distance\",\n",
    "    \"distance_over_21\",\n",
    "    \"distance_over_24\",\n",
    "    \"distance_over_27\",\n",
    "    \"accel_decel_over_2_5\",\n",
    "    \"accel_decel_over_3_5\",\n",
    "    \"accel_decel_over_4_5\",\n",
    "    \"peak_speed\",\n",
    "    \"hr_zone_1_hms\",\n",
    "    \"hr_zone_2_hms\",\n",
    "    \"hr_zone_3_hms\",\n",
    "    \"hr_zone_4_hms\",\n",
    "    \"hr_zone_5_hms\",\n",
    "]\n",
    "\n",
    "# Apply clustering\n",
    "df_training_with_clusters, df_matches_with_clusters = (\n",
    "    cluster_performance(\n",
    "        df_trainings,\n",
    "        df_matches,\n",
    "        cluster_features,\n",
    "    )\n",
    ")\n",
    "\n",
    "df_matches_with_clusters[\"type\"] = \"Match\"\n",
    "df_training_with_clusters[\"type\"] = \"Training\"\n",
    "df_combined = pd.concat(\n",
    "    [\n",
    "        df_matches_with_clusters[\n",
    "            [\"date\", \"season\", \"cluster_label\", \"type\"]\n",
    "        ],\n",
    "        df_training_with_clusters[\n",
    "            [\"date\", \"season\", \"cluster_label\", \"type\"]\n",
    "        ],\n",
    "    ]\n",
    ").sort_values(by=\"date\")\n"
   ]
  },
  {
   "cell_type": "code",
   "execution_count": 15,
   "metadata": {},
   "outputs": [
    {
     "name": "stderr",
     "output_type": "stream",
     "text": [
      "2025-03-30 18:30:25.472 Thread 'MainThread': missing ScriptRunContext! This warning can be ignored when running in bare mode.\n",
      "2025-03-30 18:30:25.472 Thread 'MainThread': missing ScriptRunContext! This warning can be ignored when running in bare mode.\n",
      "2025-03-30 18:30:25.476 Thread 'MainThread': missing ScriptRunContext! This warning can be ignored when running in bare mode.\n",
      "2025-03-30 18:30:25.476 Thread 'MainThread': missing ScriptRunContext! This warning can be ignored when running in bare mode.\n",
      "2025-03-30 18:30:25.479 Thread 'MainThread': missing ScriptRunContext! This warning can be ignored when running in bare mode.\n",
      "2025-03-30 18:30:25.479 Thread 'MainThread': missing ScriptRunContext! This warning can be ignored when running in bare mode.\n",
      "2025-03-30 18:30:25.479 Thread 'MainThread': missing ScriptRunContext! This warning can be ignored when running in bare mode.\n",
      "2025-03-30 18:30:25.481 Thread 'MainThread': missing ScriptRunContext! This warning can be ignored when running in bare mode.\n",
      "2025-03-30 18:30:25.481 Thread 'MainThread': missing ScriptRunContext! This warning can be ignored when running in bare mode.\n",
      "2025-03-30 18:30:25.481 Thread 'MainThread': missing ScriptRunContext! This warning can be ignored when running in bare mode.\n",
      "2025-03-30 18:30:25.481 Thread 'MainThread': missing ScriptRunContext! This warning can be ignored when running in bare mode.\n",
      "2025-03-30 18:30:25.484 Thread 'MainThread': missing ScriptRunContext! This warning can be ignored when running in bare mode.\n",
      "2025-03-30 18:30:25.484 Thread 'MainThread': missing ScriptRunContext! This warning can be ignored when running in bare mode.\n",
      "2025-03-30 18:30:25.484 Thread 'MainThread': missing ScriptRunContext! This warning can be ignored when running in bare mode.\n",
      "2025-03-30 18:30:25.484 Thread 'MainThread': missing ScriptRunContext! This warning can be ignored when running in bare mode.\n"
     ]
    }
   ],
   "source": [
    "\n",
    "col1, col2 = st.columns(2)\n",
    "with col1:\n",
    "    x_feature = st.selectbox(\n",
    "        \"Select X-axis feature\", cluster_features, index=0\n",
    "    )\n",
    "with col2:\n",
    "    y_feature = st.selectbox(\n",
    "        \"Select Y-axis feature\", cluster_features, index=7\n",
    "    )  # peak_speed as default\n"
   ]
  },
  {
   "cell_type": "code",
   "execution_count": 18,
   "metadata": {},
   "outputs": [
    {
     "data": {
      "text/plain": [
       "'distance'"
      ]
     },
     "execution_count": 18,
     "metadata": {},
     "output_type": "execute_result"
    }
   ],
   "source": [
    "x_feature"
   ]
  },
  {
   "cell_type": "code",
   "execution_count": 16,
   "metadata": {},
   "outputs": [
    {
     "ename": "PlotlyError",
     "evalue": "The `figure_or_data` positional argument must be `dict`-like, `list`-like, or an instance of plotly.graph_objs.Figure",
     "output_type": "error",
     "traceback": [
      "\u001b[1;31m---------------------------------------------------------------------------\u001b[0m",
      "\u001b[1;31mPlotlyError\u001b[0m                               Traceback (most recent call last)",
      "Cell \u001b[1;32mIn[16], line 1\u001b[0m\n\u001b[1;32m----> 1\u001b[0m \u001b[43mst\u001b[49m\u001b[38;5;241;43m.\u001b[39;49m\u001b[43mplotly_chart\u001b[49m\u001b[43m(\u001b[49m\n\u001b[0;32m      2\u001b[0m \u001b[43m    \u001b[49m\u001b[43mplot_cluster\u001b[49m\u001b[43m(\u001b[49m\u001b[43mdf_training_with_clusters\u001b[49m\u001b[43m,\u001b[49m\u001b[43m \u001b[49m\u001b[43mx_feature\u001b[49m\u001b[43m,\u001b[49m\u001b[43m \u001b[49m\u001b[43my_feature\u001b[49m\u001b[43m)\u001b[49m\u001b[43m,\u001b[49m\n\u001b[0;32m      3\u001b[0m \u001b[43m    \u001b[49m\u001b[43muse_container_width\u001b[49m\u001b[38;5;241;43m=\u001b[39;49m\u001b[38;5;28;43;01mTrue\u001b[39;49;00m\u001b[43m,\u001b[49m\n\u001b[0;32m      4\u001b[0m \u001b[43m)\u001b[49m\n",
      "File \u001b[1;32mc:\\Users\\RémiJAYLET\\Documents\\eleven_viz\\.venv\\lib\\site-packages\\streamlit\\runtime\\metrics_util.py:410\u001b[0m, in \u001b[0;36mgather_metrics.<locals>.wrapped_func\u001b[1;34m(*args, **kwargs)\u001b[0m\n\u001b[0;32m    408\u001b[0m         _LOGGER\u001b[38;5;241m.\u001b[39mdebug(\u001b[38;5;124m\"\u001b[39m\u001b[38;5;124mFailed to collect command telemetry\u001b[39m\u001b[38;5;124m\"\u001b[39m, exc_info\u001b[38;5;241m=\u001b[39mex)\n\u001b[0;32m    409\u001b[0m \u001b[38;5;28;01mtry\u001b[39;00m:\n\u001b[1;32m--> 410\u001b[0m     result \u001b[38;5;241m=\u001b[39m non_optional_func(\u001b[38;5;241m*\u001b[39margs, \u001b[38;5;241m*\u001b[39m\u001b[38;5;241m*\u001b[39mkwargs)\n\u001b[0;32m    411\u001b[0m \u001b[38;5;28;01mexcept\u001b[39;00m RerunException \u001b[38;5;28;01mas\u001b[39;00m ex:\n\u001b[0;32m    412\u001b[0m     \u001b[38;5;66;03m# Duplicated from below, because static analysis tools get confused\u001b[39;00m\n\u001b[0;32m    413\u001b[0m     \u001b[38;5;66;03m# by deferring the rethrow.\u001b[39;00m\n\u001b[0;32m    414\u001b[0m     \u001b[38;5;28;01mif\u001b[39;00m tracking_activated \u001b[38;5;129;01mand\u001b[39;00m command_telemetry:\n",
      "File \u001b[1;32mc:\\Users\\RémiJAYLET\\Documents\\eleven_viz\\.venv\\lib\\site-packages\\streamlit\\elements\\plotly_chart.py:487\u001b[0m, in \u001b[0;36mPlotlyMixin.plotly_chart\u001b[1;34m(self, figure_or_data, use_container_width, theme, key, on_select, selection_mode, **kwargs)\u001b[0m\n\u001b[0;32m    485\u001b[0m     figure \u001b[38;5;241m=\u001b[39m plotly\u001b[38;5;241m.\u001b[39mtools\u001b[38;5;241m.\u001b[39mmpl_to_plotly(figure_or_data)\n\u001b[0;32m    486\u001b[0m \u001b[38;5;28;01melse\u001b[39;00m:\n\u001b[1;32m--> 487\u001b[0m     figure \u001b[38;5;241m=\u001b[39m \u001b[43mplotly\u001b[49m\u001b[38;5;241;43m.\u001b[39;49m\u001b[43mtools\u001b[49m\u001b[38;5;241;43m.\u001b[39;49m\u001b[43mreturn_figure_from_figure_or_data\u001b[49m\u001b[43m(\u001b[49m\n\u001b[0;32m    488\u001b[0m \u001b[43m        \u001b[49m\u001b[43mfigure_or_data\u001b[49m\u001b[43m,\u001b[49m\u001b[43m \u001b[49m\u001b[43mvalidate_figure\u001b[49m\u001b[38;5;241;43m=\u001b[39;49m\u001b[38;5;28;43;01mTrue\u001b[39;49;00m\n\u001b[0;32m    489\u001b[0m \u001b[43m    \u001b[49m\u001b[43m)\u001b[49m\n\u001b[0;32m    491\u001b[0m plotly_chart_proto \u001b[38;5;241m=\u001b[39m PlotlyChartProto()\n\u001b[0;32m    492\u001b[0m plotly_chart_proto\u001b[38;5;241m.\u001b[39muse_container_width \u001b[38;5;241m=\u001b[39m use_container_width\n",
      "File \u001b[1;32mc:\\Users\\RémiJAYLET\\Documents\\eleven_viz\\.venv\\lib\\site-packages\\plotly\\tools.py:543\u001b[0m, in \u001b[0;36mreturn_figure_from_figure_or_data\u001b[1;34m(figure_or_data, validate_figure)\u001b[0m\n\u001b[0;32m    541\u001b[0m     validated \u001b[38;5;241m=\u001b[39m \u001b[38;5;28;01mTrue\u001b[39;00m\n\u001b[0;32m    542\u001b[0m \u001b[38;5;28;01melse\u001b[39;00m:\n\u001b[1;32m--> 543\u001b[0m     \u001b[38;5;28;01mraise\u001b[39;00m exceptions\u001b[38;5;241m.\u001b[39mPlotlyError(\n\u001b[0;32m    544\u001b[0m         \u001b[38;5;124m\"\u001b[39m\u001b[38;5;124mThe `figure_or_data` positional \u001b[39m\u001b[38;5;124m\"\u001b[39m\n\u001b[0;32m    545\u001b[0m         \u001b[38;5;124m\"\u001b[39m\u001b[38;5;124margument must be \u001b[39m\u001b[38;5;124m\"\u001b[39m\n\u001b[0;32m    546\u001b[0m         \u001b[38;5;124m\"\u001b[39m\u001b[38;5;124m`dict`-like, `list`-like, or an instance of plotly.graph_objs.Figure\u001b[39m\u001b[38;5;124m\"\u001b[39m\n\u001b[0;32m    547\u001b[0m     )\n\u001b[0;32m    549\u001b[0m \u001b[38;5;28;01mif\u001b[39;00m validate_figure \u001b[38;5;129;01mand\u001b[39;00m \u001b[38;5;129;01mnot\u001b[39;00m validated:\n\u001b[0;32m    551\u001b[0m     \u001b[38;5;28;01mtry\u001b[39;00m:\n",
      "\u001b[1;31mPlotlyError\u001b[0m: The `figure_or_data` positional argument must be `dict`-like, `list`-like, or an instance of plotly.graph_objs.Figure"
     ]
    }
   ],
   "source": [
    "\n",
    "st.plotly_chart(\n",
    "    plot_cluster(df_training_with_clusters, x_feature, y_feature),\n",
    "    use_container_width=True,\n",
    ")"
   ]
  },
  {
   "cell_type": "code",
   "execution_count": null,
   "metadata": {},
   "outputs": [],
   "source": [
    "\n",
    "seasons = df_combined[\"season\"].unique()\n",
    "selected_season = st.selectbox(\"Select Season\", seasons)\n",
    "\n",
    "st.plotly_chart(\n",
    "    plot_player_state(df_combined, season=selected_season),\n",
    "    use_container_width=True,\n",
    ")\n",
    "\n",
    "st.subheader(\"Custom Time Period Analysis\")\n",
    "col1, col2 = st.columns(2)\n",
    "with col1:\n",
    "    custom_start = st.date_input(\n",
    "        \"Custom Start Date\",\n",
    "        value=df_combined[\"date\"].min().date(),\n",
    "        min_value=df_combined[\"date\"].min().date(),\n",
    "        max_value=df_combined[\"date\"].max().date(),\n",
    "    )\n",
    "with col2:\n",
    "    custom_end = st.date_input(\n",
    "        \"Custom End Date\",\n",
    "        value=df_combined[\"date\"].max().date(),\n",
    "        min_value=df_combined[\"date\"].min().date(),\n",
    "        max_value=df_combined[\"date\"].max().date(),\n",
    "    )\n",
    "\n",
    "# Convert to string format required by the function\n",
    "custom_start_str = custom_start.strftime(\"%d/%m/%Y\")\n",
    "custom_end_str = custom_end.strftime(\"%d/%m/%Y\")\n",
    "\n",
    "custom_view = plot_player_state(\n",
    "    df_combined,\n",
    "    start_date=custom_start_str,\n",
    "    end_date=custom_end_str,\n",
    ")\n"
   ]
  }
 ],
 "metadata": {
  "kernelspec": {
   "display_name": ".venv",
   "language": "python",
   "name": "python3"
  },
  "language_info": {
   "codemirror_mode": {
    "name": "ipython",
    "version": 3
   },
   "file_extension": ".py",
   "mimetype": "text/x-python",
   "name": "python",
   "nbconvert_exporter": "python",
   "pygments_lexer": "ipython3",
   "version": "3.10.11"
  }
 },
 "nbformat": 4,
 "nbformat_minor": 2
}
